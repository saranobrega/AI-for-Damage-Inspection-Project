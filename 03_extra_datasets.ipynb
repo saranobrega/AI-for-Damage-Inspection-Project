{
  "nbformat": 4,
  "nbformat_minor": 0,
  "metadata": {
    "colab": {
      "provenance": []
    },
    "kernelspec": {
      "name": "python3",
      "display_name": "Python 3"
    },
    "language_info": {
      "name": "python"
    },
    "widgets": {
      "application/vnd.jupyter.widget-state+json": {
        "d6cdcd8a883a465793e708825dc83a88": {
          "model_module": "@jupyter-widgets/controls",
          "model_name": "HBoxModel",
          "model_module_version": "1.5.0",
          "state": {
            "_dom_classes": [],
            "_model_module": "@jupyter-widgets/controls",
            "_model_module_version": "1.5.0",
            "_model_name": "HBoxModel",
            "_view_count": null,
            "_view_module": "@jupyter-widgets/controls",
            "_view_module_version": "1.5.0",
            "_view_name": "HBoxView",
            "box_style": "",
            "children": [
              "IPY_MODEL_7931555858eb4d51878da568b00db251",
              "IPY_MODEL_da3d1744e9fc4827809c43c877142cab",
              "IPY_MODEL_7537ddbc43e845959a571e0e4cd29769"
            ],
            "layout": "IPY_MODEL_59ea7c57dae34db4ad67e796dd2618e8"
          }
        },
        "7931555858eb4d51878da568b00db251": {
          "model_module": "@jupyter-widgets/controls",
          "model_name": "HTMLModel",
          "model_module_version": "1.5.0",
          "state": {
            "_dom_classes": [],
            "_model_module": "@jupyter-widgets/controls",
            "_model_module_version": "1.5.0",
            "_model_name": "HTMLModel",
            "_view_count": null,
            "_view_module": "@jupyter-widgets/controls",
            "_view_module_version": "1.5.0",
            "_view_name": "HTMLView",
            "description": "",
            "description_tooltip": null,
            "layout": "IPY_MODEL_24e2b51b897e481d9c2d10330c46d35b",
            "placeholder": "​",
            "style": "IPY_MODEL_1cb7c5a8d9b04f83b99a901979e61c37",
            "value": "100%"
          }
        },
        "da3d1744e9fc4827809c43c877142cab": {
          "model_module": "@jupyter-widgets/controls",
          "model_name": "FloatProgressModel",
          "model_module_version": "1.5.0",
          "state": {
            "_dom_classes": [],
            "_model_module": "@jupyter-widgets/controls",
            "_model_module_version": "1.5.0",
            "_model_name": "FloatProgressModel",
            "_view_count": null,
            "_view_module": "@jupyter-widgets/controls",
            "_view_module_version": "1.5.0",
            "_view_name": "ProgressView",
            "bar_style": "success",
            "description": "",
            "description_tooltip": null,
            "layout": "IPY_MODEL_e7784fccc8d94a5ca4ffe673d56c6e38",
            "max": 6481,
            "min": 0,
            "orientation": "horizontal",
            "style": "IPY_MODEL_97d9e8ba3dde4324a690e6e915b7d9fd",
            "value": 6481
          }
        },
        "7537ddbc43e845959a571e0e4cd29769": {
          "model_module": "@jupyter-widgets/controls",
          "model_name": "HTMLModel",
          "model_module_version": "1.5.0",
          "state": {
            "_dom_classes": [],
            "_model_module": "@jupyter-widgets/controls",
            "_model_module_version": "1.5.0",
            "_model_name": "HTMLModel",
            "_view_count": null,
            "_view_module": "@jupyter-widgets/controls",
            "_view_module_version": "1.5.0",
            "_view_name": "HTMLView",
            "description": "",
            "description_tooltip": null,
            "layout": "IPY_MODEL_a58a08a7085a43a7b08f827206e59a3d",
            "placeholder": "​",
            "style": "IPY_MODEL_beeb76fb65b640fc8ddeb551d0793e85",
            "value": " 6481/6481 [04:23&lt;00:00, 29.15it/s]"
          }
        },
        "59ea7c57dae34db4ad67e796dd2618e8": {
          "model_module": "@jupyter-widgets/base",
          "model_name": "LayoutModel",
          "model_module_version": "1.2.0",
          "state": {
            "_model_module": "@jupyter-widgets/base",
            "_model_module_version": "1.2.0",
            "_model_name": "LayoutModel",
            "_view_count": null,
            "_view_module": "@jupyter-widgets/base",
            "_view_module_version": "1.2.0",
            "_view_name": "LayoutView",
            "align_content": null,
            "align_items": null,
            "align_self": null,
            "border": null,
            "bottom": null,
            "display": null,
            "flex": null,
            "flex_flow": null,
            "grid_area": null,
            "grid_auto_columns": null,
            "grid_auto_flow": null,
            "grid_auto_rows": null,
            "grid_column": null,
            "grid_gap": null,
            "grid_row": null,
            "grid_template_areas": null,
            "grid_template_columns": null,
            "grid_template_rows": null,
            "height": null,
            "justify_content": null,
            "justify_items": null,
            "left": null,
            "margin": null,
            "max_height": null,
            "max_width": null,
            "min_height": null,
            "min_width": null,
            "object_fit": null,
            "object_position": null,
            "order": null,
            "overflow": null,
            "overflow_x": null,
            "overflow_y": null,
            "padding": null,
            "right": null,
            "top": null,
            "visibility": null,
            "width": null
          }
        },
        "24e2b51b897e481d9c2d10330c46d35b": {
          "model_module": "@jupyter-widgets/base",
          "model_name": "LayoutModel",
          "model_module_version": "1.2.0",
          "state": {
            "_model_module": "@jupyter-widgets/base",
            "_model_module_version": "1.2.0",
            "_model_name": "LayoutModel",
            "_view_count": null,
            "_view_module": "@jupyter-widgets/base",
            "_view_module_version": "1.2.0",
            "_view_name": "LayoutView",
            "align_content": null,
            "align_items": null,
            "align_self": null,
            "border": null,
            "bottom": null,
            "display": null,
            "flex": null,
            "flex_flow": null,
            "grid_area": null,
            "grid_auto_columns": null,
            "grid_auto_flow": null,
            "grid_auto_rows": null,
            "grid_column": null,
            "grid_gap": null,
            "grid_row": null,
            "grid_template_areas": null,
            "grid_template_columns": null,
            "grid_template_rows": null,
            "height": null,
            "justify_content": null,
            "justify_items": null,
            "left": null,
            "margin": null,
            "max_height": null,
            "max_width": null,
            "min_height": null,
            "min_width": null,
            "object_fit": null,
            "object_position": null,
            "order": null,
            "overflow": null,
            "overflow_x": null,
            "overflow_y": null,
            "padding": null,
            "right": null,
            "top": null,
            "visibility": null,
            "width": null
          }
        },
        "1cb7c5a8d9b04f83b99a901979e61c37": {
          "model_module": "@jupyter-widgets/controls",
          "model_name": "DescriptionStyleModel",
          "model_module_version": "1.5.0",
          "state": {
            "_model_module": "@jupyter-widgets/controls",
            "_model_module_version": "1.5.0",
            "_model_name": "DescriptionStyleModel",
            "_view_count": null,
            "_view_module": "@jupyter-widgets/base",
            "_view_module_version": "1.2.0",
            "_view_name": "StyleView",
            "description_width": ""
          }
        },
        "e7784fccc8d94a5ca4ffe673d56c6e38": {
          "model_module": "@jupyter-widgets/base",
          "model_name": "LayoutModel",
          "model_module_version": "1.2.0",
          "state": {
            "_model_module": "@jupyter-widgets/base",
            "_model_module_version": "1.2.0",
            "_model_name": "LayoutModel",
            "_view_count": null,
            "_view_module": "@jupyter-widgets/base",
            "_view_module_version": "1.2.0",
            "_view_name": "LayoutView",
            "align_content": null,
            "align_items": null,
            "align_self": null,
            "border": null,
            "bottom": null,
            "display": null,
            "flex": null,
            "flex_flow": null,
            "grid_area": null,
            "grid_auto_columns": null,
            "grid_auto_flow": null,
            "grid_auto_rows": null,
            "grid_column": null,
            "grid_gap": null,
            "grid_row": null,
            "grid_template_areas": null,
            "grid_template_columns": null,
            "grid_template_rows": null,
            "height": null,
            "justify_content": null,
            "justify_items": null,
            "left": null,
            "margin": null,
            "max_height": null,
            "max_width": null,
            "min_height": null,
            "min_width": null,
            "object_fit": null,
            "object_position": null,
            "order": null,
            "overflow": null,
            "overflow_x": null,
            "overflow_y": null,
            "padding": null,
            "right": null,
            "top": null,
            "visibility": null,
            "width": null
          }
        },
        "97d9e8ba3dde4324a690e6e915b7d9fd": {
          "model_module": "@jupyter-widgets/controls",
          "model_name": "ProgressStyleModel",
          "model_module_version": "1.5.0",
          "state": {
            "_model_module": "@jupyter-widgets/controls",
            "_model_module_version": "1.5.0",
            "_model_name": "ProgressStyleModel",
            "_view_count": null,
            "_view_module": "@jupyter-widgets/base",
            "_view_module_version": "1.2.0",
            "_view_name": "StyleView",
            "bar_color": null,
            "description_width": ""
          }
        },
        "a58a08a7085a43a7b08f827206e59a3d": {
          "model_module": "@jupyter-widgets/base",
          "model_name": "LayoutModel",
          "model_module_version": "1.2.0",
          "state": {
            "_model_module": "@jupyter-widgets/base",
            "_model_module_version": "1.2.0",
            "_model_name": "LayoutModel",
            "_view_count": null,
            "_view_module": "@jupyter-widgets/base",
            "_view_module_version": "1.2.0",
            "_view_name": "LayoutView",
            "align_content": null,
            "align_items": null,
            "align_self": null,
            "border": null,
            "bottom": null,
            "display": null,
            "flex": null,
            "flex_flow": null,
            "grid_area": null,
            "grid_auto_columns": null,
            "grid_auto_flow": null,
            "grid_auto_rows": null,
            "grid_column": null,
            "grid_gap": null,
            "grid_row": null,
            "grid_template_areas": null,
            "grid_template_columns": null,
            "grid_template_rows": null,
            "height": null,
            "justify_content": null,
            "justify_items": null,
            "left": null,
            "margin": null,
            "max_height": null,
            "max_width": null,
            "min_height": null,
            "min_width": null,
            "object_fit": null,
            "object_position": null,
            "order": null,
            "overflow": null,
            "overflow_x": null,
            "overflow_y": null,
            "padding": null,
            "right": null,
            "top": null,
            "visibility": null,
            "width": null
          }
        },
        "beeb76fb65b640fc8ddeb551d0793e85": {
          "model_module": "@jupyter-widgets/controls",
          "model_name": "DescriptionStyleModel",
          "model_module_version": "1.5.0",
          "state": {
            "_model_module": "@jupyter-widgets/controls",
            "_model_module_version": "1.5.0",
            "_model_name": "DescriptionStyleModel",
            "_view_count": null,
            "_view_module": "@jupyter-widgets/base",
            "_view_module_version": "1.2.0",
            "_view_name": "StyleView",
            "description_width": ""
          }
        },
        "12af126a1b8b43feaf54d4972005e402": {
          "model_module": "@jupyter-widgets/controls",
          "model_name": "HBoxModel",
          "model_module_version": "1.5.0",
          "state": {
            "_dom_classes": [],
            "_model_module": "@jupyter-widgets/controls",
            "_model_module_version": "1.5.0",
            "_model_name": "HBoxModel",
            "_view_count": null,
            "_view_module": "@jupyter-widgets/controls",
            "_view_module_version": "1.5.0",
            "_view_name": "HBoxView",
            "box_style": "",
            "children": [
              "IPY_MODEL_142254e07038420d9821f5cd43a52f9d",
              "IPY_MODEL_1dfb58b516a942e1a1d306152d45e5d3",
              "IPY_MODEL_1f0a8698bfea4fae960257f208368a3f"
            ],
            "layout": "IPY_MODEL_fdc857b81498452a99c58e55c4269a36"
          }
        },
        "142254e07038420d9821f5cd43a52f9d": {
          "model_module": "@jupyter-widgets/controls",
          "model_name": "HTMLModel",
          "model_module_version": "1.5.0",
          "state": {
            "_dom_classes": [],
            "_model_module": "@jupyter-widgets/controls",
            "_model_module_version": "1.5.0",
            "_model_name": "HTMLModel",
            "_view_count": null,
            "_view_module": "@jupyter-widgets/controls",
            "_view_module_version": "1.5.0",
            "_view_name": "HTMLView",
            "description": "",
            "description_tooltip": null,
            "layout": "IPY_MODEL_aa98023fb0534d859bb5f6a9198ba8b7",
            "placeholder": "​",
            "style": "IPY_MODEL_822e2475ca0a4e58bb3a438a84ad10fb",
            "value": "100%"
          }
        },
        "1dfb58b516a942e1a1d306152d45e5d3": {
          "model_module": "@jupyter-widgets/controls",
          "model_name": "FloatProgressModel",
          "model_module_version": "1.5.0",
          "state": {
            "_dom_classes": [],
            "_model_module": "@jupyter-widgets/controls",
            "_model_module_version": "1.5.0",
            "_model_name": "FloatProgressModel",
            "_view_count": null,
            "_view_module": "@jupyter-widgets/controls",
            "_view_module_version": "1.5.0",
            "_view_name": "ProgressView",
            "bar_style": "success",
            "description": "",
            "description_tooltip": null,
            "layout": "IPY_MODEL_545cb5794030462f9bc6ccadc4c7ae1e",
            "max": 616,
            "min": 0,
            "orientation": "horizontal",
            "style": "IPY_MODEL_993819faa3984316bf92077e5c7bbcb5",
            "value": 616
          }
        },
        "1f0a8698bfea4fae960257f208368a3f": {
          "model_module": "@jupyter-widgets/controls",
          "model_name": "HTMLModel",
          "model_module_version": "1.5.0",
          "state": {
            "_dom_classes": [],
            "_model_module": "@jupyter-widgets/controls",
            "_model_module_version": "1.5.0",
            "_model_name": "HTMLModel",
            "_view_count": null,
            "_view_module": "@jupyter-widgets/controls",
            "_view_module_version": "1.5.0",
            "_view_name": "HTMLView",
            "description": "",
            "description_tooltip": null,
            "layout": "IPY_MODEL_7c3557e9ca53401c949302a2650072c9",
            "placeholder": "​",
            "style": "IPY_MODEL_48724181661a4c0e865c6174b8224169",
            "value": " 616/616 [00:26&lt;00:00, 33.32it/s]"
          }
        },
        "fdc857b81498452a99c58e55c4269a36": {
          "model_module": "@jupyter-widgets/base",
          "model_name": "LayoutModel",
          "model_module_version": "1.2.0",
          "state": {
            "_model_module": "@jupyter-widgets/base",
            "_model_module_version": "1.2.0",
            "_model_name": "LayoutModel",
            "_view_count": null,
            "_view_module": "@jupyter-widgets/base",
            "_view_module_version": "1.2.0",
            "_view_name": "LayoutView",
            "align_content": null,
            "align_items": null,
            "align_self": null,
            "border": null,
            "bottom": null,
            "display": null,
            "flex": null,
            "flex_flow": null,
            "grid_area": null,
            "grid_auto_columns": null,
            "grid_auto_flow": null,
            "grid_auto_rows": null,
            "grid_column": null,
            "grid_gap": null,
            "grid_row": null,
            "grid_template_areas": null,
            "grid_template_columns": null,
            "grid_template_rows": null,
            "height": null,
            "justify_content": null,
            "justify_items": null,
            "left": null,
            "margin": null,
            "max_height": null,
            "max_width": null,
            "min_height": null,
            "min_width": null,
            "object_fit": null,
            "object_position": null,
            "order": null,
            "overflow": null,
            "overflow_x": null,
            "overflow_y": null,
            "padding": null,
            "right": null,
            "top": null,
            "visibility": null,
            "width": null
          }
        },
        "aa98023fb0534d859bb5f6a9198ba8b7": {
          "model_module": "@jupyter-widgets/base",
          "model_name": "LayoutModel",
          "model_module_version": "1.2.0",
          "state": {
            "_model_module": "@jupyter-widgets/base",
            "_model_module_version": "1.2.0",
            "_model_name": "LayoutModel",
            "_view_count": null,
            "_view_module": "@jupyter-widgets/base",
            "_view_module_version": "1.2.0",
            "_view_name": "LayoutView",
            "align_content": null,
            "align_items": null,
            "align_self": null,
            "border": null,
            "bottom": null,
            "display": null,
            "flex": null,
            "flex_flow": null,
            "grid_area": null,
            "grid_auto_columns": null,
            "grid_auto_flow": null,
            "grid_auto_rows": null,
            "grid_column": null,
            "grid_gap": null,
            "grid_row": null,
            "grid_template_areas": null,
            "grid_template_columns": null,
            "grid_template_rows": null,
            "height": null,
            "justify_content": null,
            "justify_items": null,
            "left": null,
            "margin": null,
            "max_height": null,
            "max_width": null,
            "min_height": null,
            "min_width": null,
            "object_fit": null,
            "object_position": null,
            "order": null,
            "overflow": null,
            "overflow_x": null,
            "overflow_y": null,
            "padding": null,
            "right": null,
            "top": null,
            "visibility": null,
            "width": null
          }
        },
        "822e2475ca0a4e58bb3a438a84ad10fb": {
          "model_module": "@jupyter-widgets/controls",
          "model_name": "DescriptionStyleModel",
          "model_module_version": "1.5.0",
          "state": {
            "_model_module": "@jupyter-widgets/controls",
            "_model_module_version": "1.5.0",
            "_model_name": "DescriptionStyleModel",
            "_view_count": null,
            "_view_module": "@jupyter-widgets/base",
            "_view_module_version": "1.2.0",
            "_view_name": "StyleView",
            "description_width": ""
          }
        },
        "545cb5794030462f9bc6ccadc4c7ae1e": {
          "model_module": "@jupyter-widgets/base",
          "model_name": "LayoutModel",
          "model_module_version": "1.2.0",
          "state": {
            "_model_module": "@jupyter-widgets/base",
            "_model_module_version": "1.2.0",
            "_model_name": "LayoutModel",
            "_view_count": null,
            "_view_module": "@jupyter-widgets/base",
            "_view_module_version": "1.2.0",
            "_view_name": "LayoutView",
            "align_content": null,
            "align_items": null,
            "align_self": null,
            "border": null,
            "bottom": null,
            "display": null,
            "flex": null,
            "flex_flow": null,
            "grid_area": null,
            "grid_auto_columns": null,
            "grid_auto_flow": null,
            "grid_auto_rows": null,
            "grid_column": null,
            "grid_gap": null,
            "grid_row": null,
            "grid_template_areas": null,
            "grid_template_columns": null,
            "grid_template_rows": null,
            "height": null,
            "justify_content": null,
            "justify_items": null,
            "left": null,
            "margin": null,
            "max_height": null,
            "max_width": null,
            "min_height": null,
            "min_width": null,
            "object_fit": null,
            "object_position": null,
            "order": null,
            "overflow": null,
            "overflow_x": null,
            "overflow_y": null,
            "padding": null,
            "right": null,
            "top": null,
            "visibility": null,
            "width": null
          }
        },
        "993819faa3984316bf92077e5c7bbcb5": {
          "model_module": "@jupyter-widgets/controls",
          "model_name": "ProgressStyleModel",
          "model_module_version": "1.5.0",
          "state": {
            "_model_module": "@jupyter-widgets/controls",
            "_model_module_version": "1.5.0",
            "_model_name": "ProgressStyleModel",
            "_view_count": null,
            "_view_module": "@jupyter-widgets/base",
            "_view_module_version": "1.2.0",
            "_view_name": "StyleView",
            "bar_color": null,
            "description_width": ""
          }
        },
        "7c3557e9ca53401c949302a2650072c9": {
          "model_module": "@jupyter-widgets/base",
          "model_name": "LayoutModel",
          "model_module_version": "1.2.0",
          "state": {
            "_model_module": "@jupyter-widgets/base",
            "_model_module_version": "1.2.0",
            "_model_name": "LayoutModel",
            "_view_count": null,
            "_view_module": "@jupyter-widgets/base",
            "_view_module_version": "1.2.0",
            "_view_name": "LayoutView",
            "align_content": null,
            "align_items": null,
            "align_self": null,
            "border": null,
            "bottom": null,
            "display": null,
            "flex": null,
            "flex_flow": null,
            "grid_area": null,
            "grid_auto_columns": null,
            "grid_auto_flow": null,
            "grid_auto_rows": null,
            "grid_column": null,
            "grid_gap": null,
            "grid_row": null,
            "grid_template_areas": null,
            "grid_template_columns": null,
            "grid_template_rows": null,
            "height": null,
            "justify_content": null,
            "justify_items": null,
            "left": null,
            "margin": null,
            "max_height": null,
            "max_width": null,
            "min_height": null,
            "min_width": null,
            "object_fit": null,
            "object_position": null,
            "order": null,
            "overflow": null,
            "overflow_x": null,
            "overflow_y": null,
            "padding": null,
            "right": null,
            "top": null,
            "visibility": null,
            "width": null
          }
        },
        "48724181661a4c0e865c6174b8224169": {
          "model_module": "@jupyter-widgets/controls",
          "model_name": "DescriptionStyleModel",
          "model_module_version": "1.5.0",
          "state": {
            "_model_module": "@jupyter-widgets/controls",
            "_model_module_version": "1.5.0",
            "_model_name": "DescriptionStyleModel",
            "_view_count": null,
            "_view_module": "@jupyter-widgets/base",
            "_view_module_version": "1.2.0",
            "_view_name": "StyleView",
            "description_width": ""
          }
        },
        "023bb165703c440b950c4e93de9504a9": {
          "model_module": "@jupyter-widgets/controls",
          "model_name": "HBoxModel",
          "model_module_version": "1.5.0",
          "state": {
            "_dom_classes": [],
            "_model_module": "@jupyter-widgets/controls",
            "_model_module_version": "1.5.0",
            "_model_name": "HBoxModel",
            "_view_count": null,
            "_view_module": "@jupyter-widgets/controls",
            "_view_module_version": "1.5.0",
            "_view_name": "HBoxView",
            "box_style": "",
            "children": [
              "IPY_MODEL_c76dd1d8101d4584abcc3f4e5fa41521",
              "IPY_MODEL_ded391816e944ddcb550a85bd762252d",
              "IPY_MODEL_d2b1da8dafef4f7ba80117d1097222af"
            ],
            "layout": "IPY_MODEL_c115093df06d4f13befbe488106d5faa"
          }
        },
        "c76dd1d8101d4584abcc3f4e5fa41521": {
          "model_module": "@jupyter-widgets/controls",
          "model_name": "HTMLModel",
          "model_module_version": "1.5.0",
          "state": {
            "_dom_classes": [],
            "_model_module": "@jupyter-widgets/controls",
            "_model_module_version": "1.5.0",
            "_model_name": "HTMLModel",
            "_view_count": null,
            "_view_module": "@jupyter-widgets/controls",
            "_view_module_version": "1.5.0",
            "_view_name": "HTMLView",
            "description": "",
            "description_tooltip": null,
            "layout": "IPY_MODEL_ef4fa296d2d542ca87af285f1834f66b",
            "placeholder": "​",
            "style": "IPY_MODEL_c435863273b34b139f3950022404cf89",
            "value": "100%"
          }
        },
        "ded391816e944ddcb550a85bd762252d": {
          "model_module": "@jupyter-widgets/controls",
          "model_name": "FloatProgressModel",
          "model_module_version": "1.5.0",
          "state": {
            "_dom_classes": [],
            "_model_module": "@jupyter-widgets/controls",
            "_model_module_version": "1.5.0",
            "_model_name": "FloatProgressModel",
            "_view_count": null,
            "_view_module": "@jupyter-widgets/controls",
            "_view_module_version": "1.5.0",
            "_view_name": "ProgressView",
            "bar_style": "success",
            "description": "",
            "description_tooltip": null,
            "layout": "IPY_MODEL_5fdd647ae6244340b3d91fa1fc186643",
            "max": 632,
            "min": 0,
            "orientation": "horizontal",
            "style": "IPY_MODEL_e810f32b4d7b4b98aef121df421bb381",
            "value": 632
          }
        },
        "d2b1da8dafef4f7ba80117d1097222af": {
          "model_module": "@jupyter-widgets/controls",
          "model_name": "HTMLModel",
          "model_module_version": "1.5.0",
          "state": {
            "_dom_classes": [],
            "_model_module": "@jupyter-widgets/controls",
            "_model_module_version": "1.5.0",
            "_model_name": "HTMLModel",
            "_view_count": null,
            "_view_module": "@jupyter-widgets/controls",
            "_view_module_version": "1.5.0",
            "_view_name": "HTMLView",
            "description": "",
            "description_tooltip": null,
            "layout": "IPY_MODEL_3f3667496cf74c88bc645841e2e7372a",
            "placeholder": "​",
            "style": "IPY_MODEL_267efb2ca3a24383acd877fd54c2c93d",
            "value": " 632/632 [00:32&lt;00:00, 13.37it/s]"
          }
        },
        "c115093df06d4f13befbe488106d5faa": {
          "model_module": "@jupyter-widgets/base",
          "model_name": "LayoutModel",
          "model_module_version": "1.2.0",
          "state": {
            "_model_module": "@jupyter-widgets/base",
            "_model_module_version": "1.2.0",
            "_model_name": "LayoutModel",
            "_view_count": null,
            "_view_module": "@jupyter-widgets/base",
            "_view_module_version": "1.2.0",
            "_view_name": "LayoutView",
            "align_content": null,
            "align_items": null,
            "align_self": null,
            "border": null,
            "bottom": null,
            "display": null,
            "flex": null,
            "flex_flow": null,
            "grid_area": null,
            "grid_auto_columns": null,
            "grid_auto_flow": null,
            "grid_auto_rows": null,
            "grid_column": null,
            "grid_gap": null,
            "grid_row": null,
            "grid_template_areas": null,
            "grid_template_columns": null,
            "grid_template_rows": null,
            "height": null,
            "justify_content": null,
            "justify_items": null,
            "left": null,
            "margin": null,
            "max_height": null,
            "max_width": null,
            "min_height": null,
            "min_width": null,
            "object_fit": null,
            "object_position": null,
            "order": null,
            "overflow": null,
            "overflow_x": null,
            "overflow_y": null,
            "padding": null,
            "right": null,
            "top": null,
            "visibility": null,
            "width": null
          }
        },
        "ef4fa296d2d542ca87af285f1834f66b": {
          "model_module": "@jupyter-widgets/base",
          "model_name": "LayoutModel",
          "model_module_version": "1.2.0",
          "state": {
            "_model_module": "@jupyter-widgets/base",
            "_model_module_version": "1.2.0",
            "_model_name": "LayoutModel",
            "_view_count": null,
            "_view_module": "@jupyter-widgets/base",
            "_view_module_version": "1.2.0",
            "_view_name": "LayoutView",
            "align_content": null,
            "align_items": null,
            "align_self": null,
            "border": null,
            "bottom": null,
            "display": null,
            "flex": null,
            "flex_flow": null,
            "grid_area": null,
            "grid_auto_columns": null,
            "grid_auto_flow": null,
            "grid_auto_rows": null,
            "grid_column": null,
            "grid_gap": null,
            "grid_row": null,
            "grid_template_areas": null,
            "grid_template_columns": null,
            "grid_template_rows": null,
            "height": null,
            "justify_content": null,
            "justify_items": null,
            "left": null,
            "margin": null,
            "max_height": null,
            "max_width": null,
            "min_height": null,
            "min_width": null,
            "object_fit": null,
            "object_position": null,
            "order": null,
            "overflow": null,
            "overflow_x": null,
            "overflow_y": null,
            "padding": null,
            "right": null,
            "top": null,
            "visibility": null,
            "width": null
          }
        },
        "c435863273b34b139f3950022404cf89": {
          "model_module": "@jupyter-widgets/controls",
          "model_name": "DescriptionStyleModel",
          "model_module_version": "1.5.0",
          "state": {
            "_model_module": "@jupyter-widgets/controls",
            "_model_module_version": "1.5.0",
            "_model_name": "DescriptionStyleModel",
            "_view_count": null,
            "_view_module": "@jupyter-widgets/base",
            "_view_module_version": "1.2.0",
            "_view_name": "StyleView",
            "description_width": ""
          }
        },
        "5fdd647ae6244340b3d91fa1fc186643": {
          "model_module": "@jupyter-widgets/base",
          "model_name": "LayoutModel",
          "model_module_version": "1.2.0",
          "state": {
            "_model_module": "@jupyter-widgets/base",
            "_model_module_version": "1.2.0",
            "_model_name": "LayoutModel",
            "_view_count": null,
            "_view_module": "@jupyter-widgets/base",
            "_view_module_version": "1.2.0",
            "_view_name": "LayoutView",
            "align_content": null,
            "align_items": null,
            "align_self": null,
            "border": null,
            "bottom": null,
            "display": null,
            "flex": null,
            "flex_flow": null,
            "grid_area": null,
            "grid_auto_columns": null,
            "grid_auto_flow": null,
            "grid_auto_rows": null,
            "grid_column": null,
            "grid_gap": null,
            "grid_row": null,
            "grid_template_areas": null,
            "grid_template_columns": null,
            "grid_template_rows": null,
            "height": null,
            "justify_content": null,
            "justify_items": null,
            "left": null,
            "margin": null,
            "max_height": null,
            "max_width": null,
            "min_height": null,
            "min_width": null,
            "object_fit": null,
            "object_position": null,
            "order": null,
            "overflow": null,
            "overflow_x": null,
            "overflow_y": null,
            "padding": null,
            "right": null,
            "top": null,
            "visibility": null,
            "width": null
          }
        },
        "e810f32b4d7b4b98aef121df421bb381": {
          "model_module": "@jupyter-widgets/controls",
          "model_name": "ProgressStyleModel",
          "model_module_version": "1.5.0",
          "state": {
            "_model_module": "@jupyter-widgets/controls",
            "_model_module_version": "1.5.0",
            "_model_name": "ProgressStyleModel",
            "_view_count": null,
            "_view_module": "@jupyter-widgets/base",
            "_view_module_version": "1.2.0",
            "_view_name": "StyleView",
            "bar_color": null,
            "description_width": ""
          }
        },
        "3f3667496cf74c88bc645841e2e7372a": {
          "model_module": "@jupyter-widgets/base",
          "model_name": "LayoutModel",
          "model_module_version": "1.2.0",
          "state": {
            "_model_module": "@jupyter-widgets/base",
            "_model_module_version": "1.2.0",
            "_model_name": "LayoutModel",
            "_view_count": null,
            "_view_module": "@jupyter-widgets/base",
            "_view_module_version": "1.2.0",
            "_view_name": "LayoutView",
            "align_content": null,
            "align_items": null,
            "align_self": null,
            "border": null,
            "bottom": null,
            "display": null,
            "flex": null,
            "flex_flow": null,
            "grid_area": null,
            "grid_auto_columns": null,
            "grid_auto_flow": null,
            "grid_auto_rows": null,
            "grid_column": null,
            "grid_gap": null,
            "grid_row": null,
            "grid_template_areas": null,
            "grid_template_columns": null,
            "grid_template_rows": null,
            "height": null,
            "justify_content": null,
            "justify_items": null,
            "left": null,
            "margin": null,
            "max_height": null,
            "max_width": null,
            "min_height": null,
            "min_width": null,
            "object_fit": null,
            "object_position": null,
            "order": null,
            "overflow": null,
            "overflow_x": null,
            "overflow_y": null,
            "padding": null,
            "right": null,
            "top": null,
            "visibility": null,
            "width": null
          }
        },
        "267efb2ca3a24383acd877fd54c2c93d": {
          "model_module": "@jupyter-widgets/controls",
          "model_name": "DescriptionStyleModel",
          "model_module_version": "1.5.0",
          "state": {
            "_model_module": "@jupyter-widgets/controls",
            "_model_module_version": "1.5.0",
            "_model_name": "DescriptionStyleModel",
            "_view_count": null,
            "_view_module": "@jupyter-widgets/base",
            "_view_module_version": "1.2.0",
            "_view_name": "StyleView",
            "description_width": ""
          }
        },
        "ab6a425be8084a6f8556bbcafcf15b1d": {
          "model_module": "@jupyter-widgets/controls",
          "model_name": "HBoxModel",
          "model_module_version": "1.5.0",
          "state": {
            "_dom_classes": [],
            "_model_module": "@jupyter-widgets/controls",
            "_model_module_version": "1.5.0",
            "_model_name": "HBoxModel",
            "_view_count": null,
            "_view_module": "@jupyter-widgets/controls",
            "_view_module_version": "1.5.0",
            "_view_name": "HBoxView",
            "box_style": "",
            "children": [
              "IPY_MODEL_32cec9bafb174850b66faf8b516ea07c",
              "IPY_MODEL_2c5e9cc4c9354b43b8315984c5ec3b5f",
              "IPY_MODEL_e1514f3884ca43fa931d4dda4e2758be"
            ],
            "layout": "IPY_MODEL_591a8f876ba3489287384b874852ea4c"
          }
        },
        "32cec9bafb174850b66faf8b516ea07c": {
          "model_module": "@jupyter-widgets/controls",
          "model_name": "HTMLModel",
          "model_module_version": "1.5.0",
          "state": {
            "_dom_classes": [],
            "_model_module": "@jupyter-widgets/controls",
            "_model_module_version": "1.5.0",
            "_model_name": "HTMLModel",
            "_view_count": null,
            "_view_module": "@jupyter-widgets/controls",
            "_view_module_version": "1.5.0",
            "_view_name": "HTMLView",
            "description": "",
            "description_tooltip": null,
            "layout": "IPY_MODEL_56b3744a4842496494591d2bee195fe2",
            "placeholder": "​",
            "style": "IPY_MODEL_74f85fd552a742c89a5c78260e9e2cee",
            "value": ""
          }
        },
        "2c5e9cc4c9354b43b8315984c5ec3b5f": {
          "model_module": "@jupyter-widgets/controls",
          "model_name": "FloatProgressModel",
          "model_module_version": "1.5.0",
          "state": {
            "_dom_classes": [],
            "_model_module": "@jupyter-widgets/controls",
            "_model_module_version": "1.5.0",
            "_model_name": "FloatProgressModel",
            "_view_count": null,
            "_view_module": "@jupyter-widgets/controls",
            "_view_module_version": "1.5.0",
            "_view_name": "ProgressView",
            "bar_style": "success",
            "description": "",
            "description_tooltip": null,
            "layout": "IPY_MODEL_2d2a1cadd428412c9e32d3b2bb784ca1",
            "max": 1,
            "min": 0,
            "orientation": "horizontal",
            "style": "IPY_MODEL_c0c7ecbbb9ff492a932b4bd8927180be",
            "value": 1
          }
        },
        "e1514f3884ca43fa931d4dda4e2758be": {
          "model_module": "@jupyter-widgets/controls",
          "model_name": "HTMLModel",
          "model_module_version": "1.5.0",
          "state": {
            "_dom_classes": [],
            "_model_module": "@jupyter-widgets/controls",
            "_model_module_version": "1.5.0",
            "_model_name": "HTMLModel",
            "_view_count": null,
            "_view_module": "@jupyter-widgets/controls",
            "_view_module_version": "1.5.0",
            "_view_name": "HTMLView",
            "description": "",
            "description_tooltip": null,
            "layout": "IPY_MODEL_9511af108f8e490fad123dc3b32ab9d8",
            "placeholder": "​",
            "style": "IPY_MODEL_5b90083cbf554495936799c98e771bb4",
            "value": " 1052/? [1:16:04&lt;00:00,  4.80s/it]"
          }
        },
        "591a8f876ba3489287384b874852ea4c": {
          "model_module": "@jupyter-widgets/base",
          "model_name": "LayoutModel",
          "model_module_version": "1.2.0",
          "state": {
            "_model_module": "@jupyter-widgets/base",
            "_model_module_version": "1.2.0",
            "_model_name": "LayoutModel",
            "_view_count": null,
            "_view_module": "@jupyter-widgets/base",
            "_view_module_version": "1.2.0",
            "_view_name": "LayoutView",
            "align_content": null,
            "align_items": null,
            "align_self": null,
            "border": null,
            "bottom": null,
            "display": null,
            "flex": null,
            "flex_flow": null,
            "grid_area": null,
            "grid_auto_columns": null,
            "grid_auto_flow": null,
            "grid_auto_rows": null,
            "grid_column": null,
            "grid_gap": null,
            "grid_row": null,
            "grid_template_areas": null,
            "grid_template_columns": null,
            "grid_template_rows": null,
            "height": null,
            "justify_content": null,
            "justify_items": null,
            "left": null,
            "margin": null,
            "max_height": null,
            "max_width": null,
            "min_height": null,
            "min_width": null,
            "object_fit": null,
            "object_position": null,
            "order": null,
            "overflow": null,
            "overflow_x": null,
            "overflow_y": null,
            "padding": null,
            "right": null,
            "top": null,
            "visibility": null,
            "width": null
          }
        },
        "56b3744a4842496494591d2bee195fe2": {
          "model_module": "@jupyter-widgets/base",
          "model_name": "LayoutModel",
          "model_module_version": "1.2.0",
          "state": {
            "_model_module": "@jupyter-widgets/base",
            "_model_module_version": "1.2.0",
            "_model_name": "LayoutModel",
            "_view_count": null,
            "_view_module": "@jupyter-widgets/base",
            "_view_module_version": "1.2.0",
            "_view_name": "LayoutView",
            "align_content": null,
            "align_items": null,
            "align_self": null,
            "border": null,
            "bottom": null,
            "display": null,
            "flex": null,
            "flex_flow": null,
            "grid_area": null,
            "grid_auto_columns": null,
            "grid_auto_flow": null,
            "grid_auto_rows": null,
            "grid_column": null,
            "grid_gap": null,
            "grid_row": null,
            "grid_template_areas": null,
            "grid_template_columns": null,
            "grid_template_rows": null,
            "height": null,
            "justify_content": null,
            "justify_items": null,
            "left": null,
            "margin": null,
            "max_height": null,
            "max_width": null,
            "min_height": null,
            "min_width": null,
            "object_fit": null,
            "object_position": null,
            "order": null,
            "overflow": null,
            "overflow_x": null,
            "overflow_y": null,
            "padding": null,
            "right": null,
            "top": null,
            "visibility": null,
            "width": null
          }
        },
        "74f85fd552a742c89a5c78260e9e2cee": {
          "model_module": "@jupyter-widgets/controls",
          "model_name": "DescriptionStyleModel",
          "model_module_version": "1.5.0",
          "state": {
            "_model_module": "@jupyter-widgets/controls",
            "_model_module_version": "1.5.0",
            "_model_name": "DescriptionStyleModel",
            "_view_count": null,
            "_view_module": "@jupyter-widgets/base",
            "_view_module_version": "1.2.0",
            "_view_name": "StyleView",
            "description_width": ""
          }
        },
        "2d2a1cadd428412c9e32d3b2bb784ca1": {
          "model_module": "@jupyter-widgets/base",
          "model_name": "LayoutModel",
          "model_module_version": "1.2.0",
          "state": {
            "_model_module": "@jupyter-widgets/base",
            "_model_module_version": "1.2.0",
            "_model_name": "LayoutModel",
            "_view_count": null,
            "_view_module": "@jupyter-widgets/base",
            "_view_module_version": "1.2.0",
            "_view_name": "LayoutView",
            "align_content": null,
            "align_items": null,
            "align_self": null,
            "border": null,
            "bottom": null,
            "display": null,
            "flex": null,
            "flex_flow": null,
            "grid_area": null,
            "grid_auto_columns": null,
            "grid_auto_flow": null,
            "grid_auto_rows": null,
            "grid_column": null,
            "grid_gap": null,
            "grid_row": null,
            "grid_template_areas": null,
            "grid_template_columns": null,
            "grid_template_rows": null,
            "height": null,
            "justify_content": null,
            "justify_items": null,
            "left": null,
            "margin": null,
            "max_height": null,
            "max_width": null,
            "min_height": null,
            "min_width": null,
            "object_fit": null,
            "object_position": null,
            "order": null,
            "overflow": null,
            "overflow_x": null,
            "overflow_y": null,
            "padding": null,
            "right": null,
            "top": null,
            "visibility": null,
            "width": "20px"
          }
        },
        "c0c7ecbbb9ff492a932b4bd8927180be": {
          "model_module": "@jupyter-widgets/controls",
          "model_name": "ProgressStyleModel",
          "model_module_version": "1.5.0",
          "state": {
            "_model_module": "@jupyter-widgets/controls",
            "_model_module_version": "1.5.0",
            "_model_name": "ProgressStyleModel",
            "_view_count": null,
            "_view_module": "@jupyter-widgets/base",
            "_view_module_version": "1.2.0",
            "_view_name": "StyleView",
            "bar_color": null,
            "description_width": ""
          }
        },
        "9511af108f8e490fad123dc3b32ab9d8": {
          "model_module": "@jupyter-widgets/base",
          "model_name": "LayoutModel",
          "model_module_version": "1.2.0",
          "state": {
            "_model_module": "@jupyter-widgets/base",
            "_model_module_version": "1.2.0",
            "_model_name": "LayoutModel",
            "_view_count": null,
            "_view_module": "@jupyter-widgets/base",
            "_view_module_version": "1.2.0",
            "_view_name": "LayoutView",
            "align_content": null,
            "align_items": null,
            "align_self": null,
            "border": null,
            "bottom": null,
            "display": null,
            "flex": null,
            "flex_flow": null,
            "grid_area": null,
            "grid_auto_columns": null,
            "grid_auto_flow": null,
            "grid_auto_rows": null,
            "grid_column": null,
            "grid_gap": null,
            "grid_row": null,
            "grid_template_areas": null,
            "grid_template_columns": null,
            "grid_template_rows": null,
            "height": null,
            "justify_content": null,
            "justify_items": null,
            "left": null,
            "margin": null,
            "max_height": null,
            "max_width": null,
            "min_height": null,
            "min_width": null,
            "object_fit": null,
            "object_position": null,
            "order": null,
            "overflow": null,
            "overflow_x": null,
            "overflow_y": null,
            "padding": null,
            "right": null,
            "top": null,
            "visibility": null,
            "width": null
          }
        },
        "5b90083cbf554495936799c98e771bb4": {
          "model_module": "@jupyter-widgets/controls",
          "model_name": "DescriptionStyleModel",
          "model_module_version": "1.5.0",
          "state": {
            "_model_module": "@jupyter-widgets/controls",
            "_model_module_version": "1.5.0",
            "_model_name": "DescriptionStyleModel",
            "_view_count": null,
            "_view_module": "@jupyter-widgets/base",
            "_view_module_version": "1.2.0",
            "_view_name": "StyleView",
            "description_width": ""
          }
        }
      }
    }
  },
  "cells": [
    {
      "cell_type": "markdown",
      "source": [
        "# Extra datasets\n",
        "\n",
        "Downloading/uploading extra datasets to Active Loop\n",
        "\n",
        "Codebrim - https://zenodo.org/record/2620293\n",
        "\n",
        "https://github.com/activeloopai/Hub\n",
        "\n",
        "https://docs.activeloop.ai/hub-tutorials/creating-complex-datasets\n"
      ],
      "metadata": {
        "id": "pJTBMsbCzcnj"
      }
    },
    {
      "cell_type": "markdown",
      "source": [
        "## Setup"
      ],
      "metadata": {
        "id": "jltrrmc7AGT-"
      }
    },
    {
      "cell_type": "code",
      "source": [
        "!pip install hub urllib3==1.26.7 --quiet"
      ],
      "metadata": {
        "id": "BOceI3C51qp0",
        "colab": {
          "base_uri": "https://localhost:8080/"
        },
        "outputId": "14138868-2b2d-4ea7-a19c-93f743c967c7"
      },
      "execution_count": null,
      "outputs": [
        {
          "output_type": "stream",
          "name": "stdout",
          "text": [
            "\u001b[K     |████████████████████████████████| 407 kB 32.2 MB/s \n",
            "\u001b[K     |████████████████████████████████| 138 kB 72.0 MB/s \n",
            "\u001b[K     |████████████████████████████████| 132 kB 92.2 MB/s \n",
            "\u001b[K     |████████████████████████████████| 76 kB 6.0 MB/s \n",
            "\u001b[K     |████████████████████████████████| 6.6 MB 61.3 MB/s \n",
            "\u001b[K     |████████████████████████████████| 79 kB 10.3 MB/s \n",
            "\u001b[K     |████████████████████████████████| 9.1 MB 70.8 MB/s \n",
            "\u001b[K     |████████████████████████████████| 115 kB 90.2 MB/s \n",
            "\u001b[K     |████████████████████████████████| 52 kB 1.5 MB/s \n",
            "\u001b[K     |████████████████████████████████| 62 kB 1.8 MB/s \n",
            "\u001b[?25h"
          ]
        }
      ]
    },
    {
      "cell_type": "code",
      "source": [
        "import hub\n",
        "from PIL import Image, ImageDraw, ImageFont\n",
        "import numpy as np\n",
        "import os\n",
        "from getpass import getpass\n",
        "from tqdm.notebook import tqdm\n",
        "import xml.etree.ElementTree as ET"
      ],
      "metadata": {
        "id": "enqX5i1fALPR"
      },
      "execution_count": null,
      "outputs": []
    },
    {
      "cell_type": "code",
      "source": [
        "class_names = [\"Background\", \"Crack\", \"Spallation\", \"Efflorescence\", \"ExposedBars\", \"CorrosionStain\"]"
      ],
      "metadata": {
        "id": "zzRlu9fuHsyV"
      },
      "execution_count": null,
      "outputs": []
    },
    {
      "cell_type": "markdown",
      "source": [
        "## CODEBRIM Classification dataset"
      ],
      "metadata": {
        "id": "nWVS5YLJ_sRT"
      }
    },
    {
      "cell_type": "code",
      "execution_count": null,
      "metadata": {
        "colab": {
          "base_uri": "https://localhost:8080/"
        },
        "id": "73kWWQhDzXto",
        "outputId": "278f2658-8d73-4600-f81a-84546e3ea195"
      },
      "outputs": [
        {
          "output_type": "stream",
          "name": "stdout",
          "text": [
            "--2022-08-14 13:45:57--  https://zenodo.org/record/2620293/files/CODEBRIM_classification_dataset.zip\n",
            "Resolving zenodo.org (zenodo.org)... 137.138.76.77\n",
            "Connecting to zenodo.org (zenodo.org)|137.138.76.77|:443... connected.\n",
            "HTTP request sent, awaiting response... 200 OK\n",
            "Length: 7911716093 (7.4G) [application/octet-stream]\n",
            "Saving to: ‘CODEBRIM_classification_dataset.zip’\n",
            "\n",
            "CODEBRIM_classifica 100%[===================>]   7.37G  14.3MB/s    in 7m 20s  \n",
            "\n",
            "2022-08-14 13:53:19 (17.1 MB/s) - ‘CODEBRIM_classification_dataset.zip’ saved [7911716093/7911716093]\n",
            "\n"
          ]
        }
      ],
      "source": [
        "!wget https://zenodo.org/record/2620293/files/CODEBRIM_classification_dataset.zip"
      ]
    },
    {
      "cell_type": "code",
      "source": [
        "!jar xf CODEBRIM_classification_dataset.zip"
      ],
      "metadata": {
        "id": "V-SRQAFVzcP6"
      },
      "execution_count": null,
      "outputs": []
    },
    {
      "cell_type": "code",
      "source": [
        "# https://github.com/MrtnMndt/meta-learning-CODEBRIM/blob/master/MetaQNN/lib/Datasets/datasets.py\n",
        "########################\n",
        "# importing libraries\n",
        "########################\n",
        "# system libraries\n",
        "import numpy as np\n",
        "import os\n",
        "import torch\n",
        "import torch.utils.data\n",
        "import torchvision.datasets as datasets\n",
        "import torchvision.transforms as transforms\n",
        "import xml.etree.ElementTree as ElementTree\n",
        "\n",
        "\n",
        "class CODEBRIMSplit(datasets.ImageFolder):\n",
        "    \"\"\"\n",
        "    definition of class for reading data-split images and class labels, and iterating\n",
        "    over the datapoints\n",
        "    Parameters:\n",
        "        root (string): directory path for the data split\n",
        "        xml_list (list): list of paths to xmls for defect and background meta-data\n",
        "        transform (torchvision.transforms.Compose): transforms for the input data\n",
        "        target_transform (callable): transform for the targets\n",
        "        loader (callable): for loading an image given its path\n",
        "    Attributes:\n",
        "        file_list (dictionary): dictionary of file names (keys) and the corresponding\n",
        "                                class labels (values)\n",
        "        num_classes (int): number of classes in the dataset (6)\n",
        "    \"\"\"\n",
        "    def __init__(self, root, xml_list, transform=None, target_transform=None, loader=datasets.folder.default_loader):\n",
        "        super(CODEBRIMSplit, self).__init__(root, transform, target_transform, loader)\n",
        "        self.file_list = {}\n",
        "        self.num_classes = 6\n",
        "        for file_name in xml_list:\n",
        "            last_dot_idx = file_name.rfind('.')\n",
        "            f_name_idx = file_name.rfind('/')\n",
        "            root_path = file_name[f_name_idx + 1: last_dot_idx]\n",
        "            tree = ElementTree.parse(file_name)\n",
        "            root = tree.getroot()\n",
        "            for defect in root:\n",
        "                crop_name = list(defect.attrib.values())[0]\n",
        "                target = self.compute_target_multi_target(defect)\n",
        "                self.file_list[os.path.join(root_path, crop_name)] = target\n",
        "\n",
        "    def __getitem__(self, idx):\n",
        "        \"\"\"\n",
        "        defines the iterator for the dataset and returns datapoints in the form of tuples\n",
        "        Parameters:\n",
        "            idx (int): index to return the datapoint from\n",
        "        Returns:\n",
        "            a datapoint tuple (sample, target) for the index\n",
        "        \"\"\"\n",
        "        image_batch = super(CODEBRIMSplit, self).__getitem__(idx)[0]\n",
        "        image_name = self.imgs[idx][0]\n",
        "        f_name_idx = image_name.rfind('/')\n",
        "        f_dir_idx = image_name[: f_name_idx].rfind('/')\n",
        "        de_lim = image_name.rfind('_-_')\n",
        "        file_type = image_name.rfind('.')\n",
        "        if de_lim != -1:\n",
        "            name = image_name[f_dir_idx + 1: de_lim] + image_name[file_type:]\n",
        "        else:\n",
        "            name = image_name[f_dir_idx + 1:]\n",
        "        return [image_batch, self.file_list[name]]\n",
        "\n",
        "    def compute_target_multi_target(self, defect):\n",
        "        \"\"\"\n",
        "        enumerates the class-label by defining a float32 numpy array\n",
        "        Parameters:\n",
        "            defect (string): the class labels in the form of a string\n",
        "        Returns:\n",
        "            the enumerated version of the labels in the form of a numpy array \n",
        "        \"\"\"\n",
        "        out = np.zeros(self.num_classes, dtype=np.float32)\n",
        "        for i in range(self.num_classes):\n",
        "            if defect[i].text == '1':\n",
        "                out[i] = 1.0\n",
        "        return out\n",
        "\n",
        "\n",
        "class CODEBRIM:\n",
        "    \"\"\"\n",
        "    definition of CODEBRIM dataset, train/val/test splits, train/val/test loaders\n",
        "    Parameters:\n",
        "        args (argparse.Namespace): parsed command line arguments\n",
        "        is_gpu (bool): if computational device is gpu or cpu\n",
        "    Attributes:\n",
        "        num_classes (int): number of classes in the dataset (= 6)\n",
        "        dataset_path (string): path to dataset folder\n",
        "        dataset_xml_list (list): list to dataset meta-data\n",
        "        train_set (CODEBRIMSplit): train split\n",
        "        val_set (CODEBRIMSplit): validation split\n",
        "        test_set (CODEBRIMSplit): test split\n",
        "        train_loader (torch.utils.data.DataLoader): data-loader for train-split\n",
        "        val_loader (torch.utils.data.DataLoader): data-loader for val-split\n",
        "        test_loader (torch.utils.data.DataLoader): data-loader for test-split\n",
        "    \"\"\"\n",
        "    def __init__(self, is_gpu, args):\n",
        "        self.num_classes = 6\n",
        "        self.dataset_path = args.dataset_path\n",
        "        self.dataset_xml_list = [os.path.join(args.dataset_path, 'metadata/background.xml'),\n",
        "                                 os.path.join(args.dataset_path, 'metadata/defects.xml')]\n",
        "        self.train_set, self.val_set, self.test_set = self.get_dataset(args.patch_size)\n",
        "        self.train_loader, self.val_loader, self.test_loader = self.get_dataset_loader(args.batch_size, args.workers,\n",
        "                                                                                       is_gpu)\n",
        "\n",
        "    def get_dataset(self, patch_size):\n",
        "        \"\"\"\n",
        "        return dataset splits\n",
        "        Parameters:\n",
        "            patch_size (int): patch-size to rescale the images to\n",
        "        \n",
        "        Returns:\n",
        "            train_set, val_set, test_set of type lib.Datasets.datasets.CODEBRIMSplit\n",
        "        \"\"\"\n",
        "\n",
        "        train_tf = transforms.Compose([transforms.Resize(patch_size),\n",
        "                                        # transforms.RandomCrop(patch_size),\n",
        "                                        # transforms.RandomHorizontalFlip(),\n",
        "                                        transforms.ToTensor()])\n",
        "        val_tf = transforms.Compose([transforms.Resize(patch_size),\n",
        "                                                        #transforms.CenterCrop(patch_size),\n",
        "                                                        transforms.ToTensor()])\n",
        "\n",
        "        test_tf = transforms.Compose([transforms.Resize(patch_size),\n",
        "                                                        #transforms.CenterCrop(patch_size),\n",
        "                                                        transforms.ToTensor()])\n",
        "\n",
        "        train_set = CODEBRIMSplit(os.path.join(self.dataset_path, 'train'),\n",
        "                                  self.dataset_xml_list,\n",
        "                                  transform=train_tf)\n",
        "        val_set = CODEBRIMSplit(os.path.join(self.dataset_path, 'val'),\n",
        "                                self.dataset_xml_list,\n",
        "                                transform=val_tf)\n",
        "        test_set = CODEBRIMSplit(os.path.join(self.dataset_path, 'test'),\n",
        "                                 self.dataset_xml_list,\n",
        "                                 transform=test_tf)\n",
        "        \n",
        "        return train_set, val_set, test_set\n",
        "\n",
        "    def get_dataset_loader(self, batch_size, workers, is_gpu):\n",
        "        \"\"\"\n",
        "        defines the dataset loader for wrapped dataset\n",
        "        Parameters:\n",
        "            batch_size (int): mini batch size in data loader\n",
        "            workers (int): number of parallel cpu threads for data loading\n",
        "            is_gpu (bool): True if CUDA is enabled so pin_memory is set to True\n",
        "        \n",
        "        Returns:\n",
        "            train_loader, val_loader, test_loader of type torch.utils.data.DataLoader\n",
        "        \"\"\"\n",
        "        train_loader = torch.utils.data.DataLoader(self.train_set, num_workers=workers, batch_size=batch_size,\n",
        "                                                   shuffle=True, pin_memory=is_gpu)\n",
        "        val_loader = torch.utils.data.DataLoader(self.val_set, num_workers=workers, batch_size=batch_size,\n",
        "                                                 shuffle=False, pin_memory=is_gpu)\n",
        "        test_loader = torch.utils.data.DataLoader(self.test_set, num_workers=workers, batch_size=batch_size,\n",
        "                                                  shuffle=False, pin_memory=is_gpu)\n",
        "\n",
        "        return train_loader, val_loader, test_loader"
      ],
      "metadata": {
        "id": "d0qCMaF4EgKK"
      },
      "execution_count": null,
      "outputs": []
    },
    {
      "cell_type": "markdown",
      "source": [
        "```\n",
        "<Defect name=\"image_0000005_crop_0000002.png\">\n",
        "    <Background>0</Background>\n",
        "    <Crack>0</Crack>\n",
        "    <Spallation>0</Spallation>\n",
        "    <Efflorescence>1</Efflorescence>\n",
        "    <ExposedBars>0</ExposedBars>\n",
        "    <CorrosionStain>1</CorrosionStain>\n",
        "</Defect>\n",
        "```"
      ],
      "metadata": {
        "id": "IvpHW4psI0AP"
      }
    },
    {
      "cell_type": "code",
      "source": [
        "class_names = [\"Background\", \"Crack\", \"Spallation\", \"Efflorescence\", \"ExposedBars\", \"CorrosionStain\"]"
      ],
      "metadata": {
        "id": "CJLV5XefMJEX"
      },
      "execution_count": null,
      "outputs": []
    },
    {
      "cell_type": "code",
      "source": [
        "class args:\n",
        "    dataset_path = \"./classification_dataset\"\n",
        "    patch_size = 256\n",
        "    batch_size = 8\n",
        "    workers = 0\n",
        "\n",
        "codebrim = CODEBRIM(is_gpu=False, args=args)"
      ],
      "metadata": {
        "id": "pqq99osRFzJx"
      },
      "execution_count": null,
      "outputs": []
    },
    {
      "cell_type": "code",
      "source": [
        "train_ds, val_ds, test_ds = codebrim.get_dataset((args.patch_size, args.patch_size))"
      ],
      "metadata": {
        "id": "29NrPlLAFIip"
      },
      "execution_count": null,
      "outputs": []
    },
    {
      "cell_type": "code",
      "source": [
        "from PIL import Image\n",
        "label = train_ds[0][1]\n",
        "x = train_ds[0][0].numpy()\n",
        "x = np.transpose(x, (1, 2, 0))\n",
        "img = Image.fromarray((x * 255).astype(np.uint8))\n",
        "print(label)\n",
        "img"
      ],
      "metadata": {
        "colab": {
          "base_uri": "https://localhost:8080/",
          "height": 290
        },
        "id": "dn1iOrs6GapD",
        "outputId": "b3699e99-6a85-4115-db5b-2af52518322a"
      },
      "execution_count": null,
      "outputs": [
        {
          "output_type": "stream",
          "name": "stdout",
          "text": [
            "[1. 0. 0. 0. 0. 0.]\n"
          ]
        },
        {
          "output_type": "execute_result",
          "data": {
            "text/plain": [
              "<PIL.Image.Image image mode=RGB size=256x256 at 0x7F920B6DF310>"
            ],
            "image/png": "[encoded data removed]"
          },
          "metadata": {},
          "execution_count": 5
        }
      ]
    },
    {
      "cell_type": "code",
      "source": [
        "for split, curr_ds in zip([\"train\", \"val\", \"test\"], [train_ds, val_ds, test_ds]):\n",
        "    print(split)\n",
        "    data_url = f\"hub://luizapzbn/CODEBRIM_classification_dataset-{split}\"\n",
        "    ds = hub.empty(data_url, token=getpass(prompt='Token: ', stream=None)) # Create the dataset\n",
        "\n",
        "    with ds:\n",
        "        # Image\n",
        "        ds.create_tensor('images', htype='image', sample_compression='jpeg')\n",
        "        \n",
        "        # Classification\n",
        "        ds.create_tensor('labels', htype='class_label', class_names = class_names)\n",
        "\n",
        "    with ds:\n",
        "        #Iterate throgh the images\n",
        "        for img, label in tqdm(curr_ds):\n",
        "            # Get the class number for the classification\n",
        "            img = (img.numpy() * 255).astype(np.uint8)\n",
        "            img = np.transpose(img, (1, 2, 0))\n",
        "            label_idx = np.argmax(label)\n",
        "            # Append data to tensors\n",
        "            ds.append({'images': img,\n",
        "                    'labels': np.uint32(label_idx),\n",
        "            })"
      ],
      "metadata": {
        "id": "Z3QPTXNt2ud_",
        "colab": {
          "base_uri": "https://localhost:8080/",
          "height": 373,
          "referenced_widgets": [
            "d6cdcd8a883a465793e708825dc83a88",
            "7931555858eb4d51878da568b00db251",
            "da3d1744e9fc4827809c43c877142cab",
            "7537ddbc43e845959a571e0e4cd29769",
            "59ea7c57dae34db4ad67e796dd2618e8",
            "24e2b51b897e481d9c2d10330c46d35b",
            "1cb7c5a8d9b04f83b99a901979e61c37",
            "e7784fccc8d94a5ca4ffe673d56c6e38",
            "97d9e8ba3dde4324a690e6e915b7d9fd",
            "a58a08a7085a43a7b08f827206e59a3d",
            "beeb76fb65b640fc8ddeb551d0793e85",
            "12af126a1b8b43feaf54d4972005e402",
            "142254e07038420d9821f5cd43a52f9d",
            "1dfb58b516a942e1a1d306152d45e5d3",
            "1f0a8698bfea4fae960257f208368a3f",
            "fdc857b81498452a99c58e55c4269a36",
            "aa98023fb0534d859bb5f6a9198ba8b7",
            "822e2475ca0a4e58bb3a438a84ad10fb",
            "545cb5794030462f9bc6ccadc4c7ae1e",
            "993819faa3984316bf92077e5c7bbcb5",
            "7c3557e9ca53401c949302a2650072c9",
            "48724181661a4c0e865c6174b8224169",
            "023bb165703c440b950c4e93de9504a9",
            "c76dd1d8101d4584abcc3f4e5fa41521",
            "ded391816e944ddcb550a85bd762252d",
            "d2b1da8dafef4f7ba80117d1097222af",
            "c115093df06d4f13befbe488106d5faa",
            "ef4fa296d2d542ca87af285f1834f66b",
            "c435863273b34b139f3950022404cf89",
            "5fdd647ae6244340b3d91fa1fc186643",
            "e810f32b4d7b4b98aef121df421bb381",
            "3f3667496cf74c88bc645841e2e7372a",
            "267efb2ca3a24383acd877fd54c2c93d"
          ]
        },
        "outputId": "d7c61886-fc72-4a72-fe1d-b32aa46bb8c8"
      },
      "execution_count": null,
      "outputs": [
        {
          "output_type": "stream",
          "name": "stdout",
          "text": [
            "train\n",
            "Token: ··········\n",
            "Your Hub dataset has been successfully created!\n",
            "The dataset is private so make sure you are logged in!\n",
            "This dataset can be visualized in Jupyter Notebook by ds.visualize() or at https://app.activeloop.ai/luizapzbn/CODEBRIM_classification_dataset-train\n"
          ]
        },
        {
          "output_type": "display_data",
          "data": {
            "text/plain": [
              "  0%|          | 0/6481 [00:00<?, ?it/s]"
            ],
            "application/vnd.jupyter.widget-view+json": {
              "version_major": 2,
              "version_minor": 0,
              "model_id": "d6cdcd8a883a465793e708825dc83a88"
            }
          },
          "metadata": {}
        },
        {
          "output_type": "stream",
          "name": "stdout",
          "text": [
            "val\n",
            "Token: ··········\n",
            "Your Hub dataset has been successfully created!\n",
            "The dataset is private so make sure you are logged in!\n",
            "This dataset can be visualized in Jupyter Notebook by ds.visualize() or at https://app.activeloop.ai/luizapzbn/CODEBRIM_classification_dataset-val\n"
          ]
        },
        {
          "output_type": "display_data",
          "data": {
            "text/plain": [
              "  0%|          | 0/616 [00:00<?, ?it/s]"
            ],
            "application/vnd.jupyter.widget-view+json": {
              "version_major": 2,
              "version_minor": 0,
              "model_id": "12af126a1b8b43feaf54d4972005e402"
            }
          },
          "metadata": {}
        },
        {
          "output_type": "stream",
          "name": "stdout",
          "text": [
            "test\n",
            "Token: ··········\n",
            "Your Hub dataset has been successfully created!\n",
            "The dataset is private so make sure you are logged in!\n",
            "This dataset can be visualized in Jupyter Notebook by ds.visualize() or at https://app.activeloop.ai/luizapzbn/CODEBRIM_classification_dataset-test\n"
          ]
        },
        {
          "output_type": "display_data",
          "data": {
            "text/plain": [
              "  0%|          | 0/632 [00:00<?, ?it/s]"
            ],
            "application/vnd.jupyter.widget-view+json": {
              "version_major": 2,
              "version_minor": 0,
              "model_id": "023bb165703c440b950c4e93de9504a9"
            }
          },
          "metadata": {}
        }
      ]
    },
    {
      "cell_type": "code",
      "source": [
        "ds = hub.load(data_url)"
      ],
      "metadata": {
        "colab": {
          "base_uri": "https://localhost:8080/"
        },
        "id": "mxhIzBMN3LTX",
        "outputId": "fd244df1-1f38-4849-adc8-d4d3e69ab9f3"
      },
      "execution_count": null,
      "outputs": [
        {
          "output_type": "stream",
          "name": "stdout",
          "text": [
            "hub://luizapzbn/CODEBRIM_classification_dataset-test loaded successfully.\n",
            "This dataset can be visualized in Jupyter Notebook by ds.visualize() or at https://app.activeloop.ai/luizapzbn/CODEBRIM_classification_dataset-test\n"
          ]
        }
      ]
    },
    {
      "cell_type": "code",
      "source": [
        "ind = 1\n",
        "img = Image.fromarray(ds.images[ind].numpy())\n",
        "label = class_names[ds.labels[ind].numpy()[0]]\n",
        "print(label)\n",
        "img"
      ],
      "metadata": {
        "colab": {
          "base_uri": "https://localhost:8080/",
          "height": 290
        },
        "id": "X1714Hjw3GIS",
        "outputId": "2e616c53-46f4-448a-d2e8-7ccd2bce4eff"
      },
      "execution_count": null,
      "outputs": [
        {
          "output_type": "stream",
          "name": "stdout",
          "text": [
            "Background\n"
          ]
        },
        {
          "output_type": "execute_result",
          "data": {
            "text/plain": [
              "<PIL.Image.Image image mode=RGB size=256x256 at 0x7F9202A4BF50>"
            ],
            "image/png": "[encoded data removed]"
          },
          "metadata": {},
          "execution_count": 11
        }
      ]
    },
    {
      "cell_type": "markdown",
      "source": [
        "## CODEBRIM Object Detection\n",
        "\n",
        "https://www.kaggle.com/code/mtszkw/reading-sample-image-and-bounding-boxes-from-xml"
      ],
      "metadata": {
        "id": "UKHruO_h_bjQ"
      }
    },
    {
      "cell_type": "code",
      "source": [
        "!wget https://zenodo.org/record/2620293/files/CODEBRIM_original_images.zip"
      ],
      "metadata": {
        "colab": {
          "base_uri": "https://localhost:8080/"
        },
        "id": "S2WDaEq__drS",
        "outputId": "422fb7c3-04d6-475a-ddaa-f6ba8cfe0157"
      },
      "execution_count": null,
      "outputs": [
        {
          "output_type": "stream",
          "name": "stdout",
          "text": [
            "--2022-08-26 11:20:38--  https://zenodo.org/record/2620293/files/CODEBRIM_original_images.zip\n",
            "Resolving zenodo.org (zenodo.org)... 137.138.76.77\n",
            "Connecting to zenodo.org (zenodo.org)|137.138.76.77|:443... connected.\n",
            "HTTP request sent, awaiting response... 200 OK\n",
            "Length: 8310630622 (7.7G) [application/octet-stream]\n",
            "Saving to: ‘CODEBRIM_original_images.zip’\n",
            "\n",
            "CODEBRIM_original_i 100%[===================>]   7.74G  5.76MB/s    in 19m 31s \n",
            "\n",
            "2022-08-26 11:40:10 (6.77 MB/s) - ‘CODEBRIM_original_images.zip’ saved [8310630622/8310630622]\n",
            "\n"
          ]
        }
      ]
    },
    {
      "cell_type": "code",
      "source": [
        "!jar xf CODEBRIM_original_images.zip"
      ],
      "metadata": {
        "id": "OKu9Ncuq_hbC"
      },
      "execution_count": null,
      "outputs": []
    },
    {
      "cell_type": "code",
      "source": [
        "from pathlib import Path\n",
        "annt_dir = Path(\"/content/original_dataset/annotations/\")\n",
        "images_dir = Path(\"/content/original_dataset/images/\")"
      ],
      "metadata": {
        "id": "ao9-LYnHFEjO"
      },
      "execution_count": null,
      "outputs": []
    },
    {
      "cell_type": "code",
      "source": [
        "data_url = f\"hub://luizapzbn/CODEBRIM_original_images_od\"\n",
        "ds = hub.empty(data_url, token=getpass(prompt='Token: ', stream=None)) # Create the dataset\n",
        "\n",
        "with ds:\n",
        "    # Image\n",
        "    ds.create_tensor('images', htype='image', sample_compression='jpeg')\n",
        "    \n",
        "    # Boxes\n",
        "    ds.create_tensor('boxes/bbox', htype='bbox')\n",
        "    ds.create_tensor('boxes/labels', htype='class_label', class_names=class_names)"
      ],
      "metadata": {
        "colab": {
          "base_uri": "https://localhost:8080/"
        },
        "id": "EvxHw9z7HcVB",
        "outputId": "65a0f0a7-3cd4-4f07-8668-cdb5fa2b62d2"
      },
      "execution_count": null,
      "outputs": [
        {
          "output_type": "stream",
          "name": "stdout",
          "text": [
            "Token: ··········\n",
            "Your Hub dataset has been successfully created!\n",
            "The dataset is private so make sure you are logged in!\n",
            "This dataset can be visualized in Jupyter Notebook by ds.visualize() or at https://app.activeloop.ai/luizapzbn/CODEBRIM_original_images_od\n"
          ]
        }
      ]
    },
    {
      "cell_type": "code",
      "source": [
        "for i, ant_path in enumerate(tqdm(annt_dir.glob(\"*.xml\"))):\n",
        "\n",
        "    if i <= 10:\n",
        "        continue\n",
        "\n",
        "    tree = ET.parse(ant_path)\n",
        "    root = tree.getroot()\n",
        "\n",
        "    filename = root.find(\"filename\").text\n",
        "    img = Image.open(images_dir / filename)\n",
        "\n",
        "    bboxes = []\n",
        "    defects = []\n",
        "    for neighbor in root.iter('bndbox'):\n",
        "        xmin = int(neighbor.find('xmin').text)\n",
        "        ymin = int(neighbor.find('ymin').text)\n",
        "        xmax = int(neighbor.find('xmax').text)\n",
        "        ymax = int(neighbor.find('ymax').text)\n",
        "\n",
        "        bboxes.append([xmin, ymin, xmax, ymax])\n",
        "\n",
        "    for neighbor in root.iter('Defect'):\n",
        "        bg = int(neighbor.find(\"Background\").text)\n",
        "        cr = int(neighbor.find(\"Crack\").text)\n",
        "        sp = int(neighbor.find(\"Spallation\").text)\n",
        "        ef = int(neighbor.find(\"Efflorescence\").text)\n",
        "        eb = int(neighbor.find(\"ExposedBars\").text)\n",
        "        cs = int(neighbor.find(\"CorrosionStain\").text)\n",
        "\n",
        "        defs = np.array([bg, cr, sp, ef, eb, cs])\n",
        "        defects.append(defs)\n",
        "\n",
        "    if len(defects) == 0:\n",
        "        defects = [defects]\n",
        "    if len(bboxes) == 0:\n",
        "        bboxes = [bboxes]\n",
        "\n",
        "    defects = np.array(defects).astype(np.uint32)\n",
        "    bboxes = np.array(bboxes).astype(np.float32)\n",
        "    img = (np.array(img) * 255).astype(np.uint8)\n",
        "\n",
        "    ds_dict = {\n",
        "        'images': img,\n",
        "        'boxes/bbox': bboxes,\n",
        "        'boxes/labels': defects,\n",
        "    }\n",
        "\n",
        "    with ds:\n",
        "        ds.append(ds_dict)"
      ],
      "metadata": {
        "colab": {
          "base_uri": "https://localhost:8080/",
          "height": 49,
          "referenced_widgets": [
            "ab6a425be8084a6f8556bbcafcf15b1d",
            "32cec9bafb174850b66faf8b516ea07c",
            "2c5e9cc4c9354b43b8315984c5ec3b5f",
            "e1514f3884ca43fa931d4dda4e2758be",
            "591a8f876ba3489287384b874852ea4c",
            "56b3744a4842496494591d2bee195fe2",
            "74f85fd552a742c89a5c78260e9e2cee",
            "2d2a1cadd428412c9e32d3b2bb784ca1",
            "c0c7ecbbb9ff492a932b4bd8927180be",
            "9511af108f8e490fad123dc3b32ab9d8",
            "5b90083cbf554495936799c98e771bb4"
          ]
        },
        "id": "ww-qJhB7FVcQ",
        "outputId": "275b3f5b-fab5-48c0-8efe-795aba85d5ea"
      },
      "execution_count": null,
      "outputs": [
        {
          "output_type": "display_data",
          "data": {
            "text/plain": [
              "0it [00:00, ?it/s]"
            ],
            "application/vnd.jupyter.widget-view+json": {
              "version_major": 2,
              "version_minor": 0,
              "model_id": "ab6a425be8084a6f8556bbcafcf15b1d"
            }
          },
          "metadata": {}
        }
      ]
    },
    {
      "cell_type": "code",
      "source": [
        "!wget https://github.com/matomo-org/travis-scripts/raw/master/fonts/Arial.ttf"
      ],
      "metadata": {
        "colab": {
          "base_uri": "https://localhost:8080/"
        },
        "id": "67iKZeWxDHSA",
        "outputId": "d50841f7-06bf-4690-dcbe-7b764ffebcf5"
      },
      "execution_count": null,
      "outputs": [
        {
          "output_type": "stream",
          "name": "stdout",
          "text": [
            "--2022-08-26 12:10:22--  https://github.com/matomo-org/travis-scripts/raw/master/fonts/Arial.ttf\n",
            "Resolving github.com (github.com)... 140.82.113.3\n",
            "Connecting to github.com (github.com)|140.82.113.3|:443... connected.\n",
            "HTTP request sent, awaiting response... 302 Found\n",
            "Location: https://raw.githubusercontent.com/matomo-org/travis-scripts/master/fonts/Arial.ttf [following]\n",
            "--2022-08-26 12:10:23--  https://raw.githubusercontent.com/matomo-org/travis-scripts/master/fonts/Arial.ttf\n",
            "Resolving raw.githubusercontent.com (raw.githubusercontent.com)... 185.199.108.133, 185.199.109.133, 185.199.110.133, ...\n",
            "Connecting to raw.githubusercontent.com (raw.githubusercontent.com)|185.199.108.133|:443... connected.\n",
            "HTTP request sent, awaiting response... 200 OK\n",
            "Length: 275572 (269K) [application/octet-stream]\n",
            "Saving to: ‘Arial.ttf’\n",
            "\n",
            "\rArial.ttf             0%[                    ]       0  --.-KB/s               \rArial.ttf           100%[===================>] 269.11K  --.-KB/s    in 0.005s  \n",
            "\n",
            "2022-08-26 12:10:23 (57.8 MB/s) - ‘Arial.ttf’ saved [275572/275572]\n",
            "\n"
          ]
        }
      ]
    },
    {
      "cell_type": "code",
      "source": [
        "ds = hub.load(data_url, token=getpass(prompt='Token: ', stream=None))"
      ],
      "metadata": {
        "colab": {
          "base_uri": "https://localhost:8080/"
        },
        "id": "ypz7Lwy7AFjl",
        "outputId": "2a99dd46-22a2-4e99-ccaf-8178e216a9c0"
      },
      "execution_count": null,
      "outputs": [
        {
          "output_type": "stream",
          "name": "stdout",
          "text": [
            "Token: ··········\n",
            "hub://luizapzbn/CODEBRIM_original_images_od loaded successfully.\n",
            "This dataset can be visualized in Jupyter Notebook by ds.visualize() or at https://app.activeloop.ai/luizapzbn/CODEBRIM_original_images_od\n"
          ]
        }
      ]
    },
    {
      "cell_type": "code",
      "source": [
        "sample = ds[159]\n",
        "image = sample[\"images\"].numpy()\n",
        "labels = sample[\"boxes/labels\"].numpy()\n",
        "bboxes = sample[\"boxes/bbox\"].numpy()"
      ],
      "metadata": {
        "id": "sUPOxP0AAeLc"
      },
      "execution_count": null,
      "outputs": []
    },
    {
      "cell_type": "code",
      "source": [
        "sample_image = Image.fromarray(image)\n",
        "sample_image_annotated = sample_image.copy()\n",
        "\n",
        "img_bbox = ImageDraw.Draw(sample_image_annotated)\n",
        "font = ImageFont.truetype(\"/content/Arial.ttf\", 64)\n",
        "\n",
        "for bbox, bbox_labels in zip(bboxes, labels):\n",
        "    labels_text = ', '.join([class_names[idx] for idx in np.where(bbox_labels)[0]])\n",
        "    img_bbox.rectangle(bbox, outline=\"green\", width=5) \n",
        "    img_bbox.text((bbox[0], bbox[1]), labels_text, font=font)\n",
        "\n",
        "sample_image_annotated"
      ],
      "metadata": {
        "id": "uGw8UA_SDM07"
      },
      "execution_count": null,
      "outputs": []
    },
    {
      "cell_type": "code",
      "source": [],
      "metadata": {
        "id": "S_anBlTyB_S8"
      },
      "execution_count": null,
      "outputs": []
    }
  ]
}