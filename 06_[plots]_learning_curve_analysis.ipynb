{
  "nbformat": 4,
  "nbformat_minor": 0,
  "metadata": {
    "colab": {
      "provenance": []
    },
    "kernelspec": {
      "name": "python3",
      "display_name": "Python 3"
    },
    "language_info": {
      "name": "python"
    }
  },
  "cells": [
    {
      "cell_type": "code",
      "source": [
        "!pip install hub urllib3==1.26.7 torchmetrics iterative-stratification timm pytorch-lightning --quiet\n",
        "!wget https://github.com/matomo-org/travis-scripts/raw/master/fonts/Arial.ttf"
      ],
      "metadata": {
        "colab": {
          "base_uri": "https://localhost:8080/"
        },
        "id": "bUU6SNjYTIlw",
        "outputId": "c64206b4-3003-4765-8665-f5ef8450eb5c"
      },
      "execution_count": null,
      "outputs": [
        {
          "output_type": "stream",
          "name": "stdout",
          "text": [
            "\u001b[K     |████████████████████████████████| 138 kB 14.1 MB/s \n",
            "\u001b[K     |████████████████████████████████| 419 kB 56.8 MB/s \n",
            "\u001b[K     |████████████████████████████████| 548 kB 66.4 MB/s \n",
            "\u001b[K     |████████████████████████████████| 708 kB 69.9 MB/s \n",
            "\u001b[K     |████████████████████████████████| 437 kB 88.5 MB/s \n",
            "\u001b[K     |████████████████████████████████| 163 kB 72.2 MB/s \n",
            "\u001b[K     |████████████████████████████████| 5.9 MB 42.9 MB/s \n",
            "\u001b[K     |████████████████████████████████| 62 kB 1.4 MB/s \n",
            "\u001b[K     |████████████████████████████████| 132 kB 62.4 MB/s \n",
            "\u001b[K     |████████████████████████████████| 6.6 MB 23.5 MB/s \n",
            "\u001b[K     |████████████████████████████████| 10.5 MB 23.2 MB/s \n",
            "\u001b[K     |████████████████████████████████| 76 kB 5.3 MB/s \n",
            "\u001b[K     |████████████████████████████████| 79 kB 8.3 MB/s \n",
            "\u001b[K     |████████████████████████████████| 9.2 MB 41.4 MB/s \n",
            "\u001b[K     |████████████████████████████████| 52 kB 1.0 MB/s \n",
            "\u001b[K     |████████████████████████████████| 115 kB 65.7 MB/s \n",
            "\u001b[31mERROR: pip's dependency resolver does not currently take into account all the packages that are installed. This behaviour is the source of the following dependency conflicts.\n",
            "tensorflow 2.8.2+zzzcolab20220719082949 requires tensorboard<2.9,>=2.8, but you have tensorboard 2.10.1 which is incompatible.\u001b[0m\n",
            "\u001b[?25h--2022-10-04 15:34:24--  https://github.com/matomo-org/travis-scripts/raw/master/fonts/Arial.ttf\n",
            "Resolving github.com (github.com)... 140.82.121.3\n",
            "Connecting to github.com (github.com)|140.82.121.3|:443... connected.\n",
            "HTTP request sent, awaiting response... 302 Found\n",
            "Location: https://raw.githubusercontent.com/matomo-org/travis-scripts/master/fonts/Arial.ttf [following]\n",
            "--2022-10-04 15:34:24--  https://raw.githubusercontent.com/matomo-org/travis-scripts/master/fonts/Arial.ttf\n",
            "Resolving raw.githubusercontent.com (raw.githubusercontent.com)... 185.199.108.133, 185.199.109.133, 185.199.110.133, ...\n",
            "Connecting to raw.githubusercontent.com (raw.githubusercontent.com)|185.199.108.133|:443... connected.\n",
            "HTTP request sent, awaiting response... 200 OK\n",
            "Length: 275572 (269K) [application/octet-stream]\n",
            "Saving to: ‘Arial.ttf’\n",
            "\n",
            "Arial.ttf           100%[===================>] 269.11K  --.-KB/s    in 0.01s   \n",
            "\n",
            "2022-10-04 15:34:24 (21.6 MB/s) - ‘Arial.ttf’ saved [275572/275572]\n",
            "\n"
          ]
        }
      ]
    },
    {
      "cell_type": "code",
      "execution_count": null,
      "metadata": {
        "id": "UQ00swRsSlUi"
      },
      "outputs": [],
      "source": [
        "import json\n",
        "import pickle\n",
        "import warnings\n",
        "from copy import copy, deepcopy\n",
        "from getpass import getpass\n",
        "from pathlib import Path\n",
        "from typing import Any, Callable, Dict, List, Tuple\n",
        "\n",
        "import random\n",
        "import cv2\n",
        "import hub\n",
        "import matplotlib.pyplot as plt\n",
        "import numpy as np\n",
        "import pandas as pd\n",
        "import pytorch_lightning as pl\n",
        "import timm  # https://rwightman.github.io/pytorch-image-models/\n",
        "import torch\n",
        "import torch.nn as nn\n",
        "import torch.nn.functional as F\n",
        "import torchmetrics\n",
        "import torchvision\n",
        "import seaborn as sns\n",
        "from iterstrat.ml_stratifiers import (MultilabelStratifiedKFold,\n",
        "                                      MultilabelStratifiedShuffleSplit)\n",
        "from matplotlib import pyplot as plt\n",
        "from PIL import Image, ImageDraw, ImageFont\n",
        "from pytorch_lightning import Callback, Trainer, seed_everything\n",
        "from pytorch_lightning.callbacks import EarlyStopping, ModelCheckpoint\n",
        "from pytorch_lightning.loggers import CSVLogger\n",
        "from sklearn.metrics import f1_score, accuracy_score, recall_score, precision_score\n",
        "from torch.utils.data import DataLoader, Dataset\n",
        "from torchvision import transforms, utils\n",
        "from tqdm.notebook import tqdm"
      ]
    },
    {
      "cell_type": "code",
      "source": [
        "from google.colab import drive\n",
        "drive.mount('/content/drive')"
      ],
      "metadata": {
        "colab": {
          "base_uri": "https://localhost:8080/"
        },
        "id": "5joz_Pm-Txsp",
        "outputId": "b6eb906b-b05a-4425-ba8a-4ad5af16b76d"
      },
      "execution_count": null,
      "outputs": [
        {
          "output_type": "stream",
          "name": "stdout",
          "text": [
            "Mounted at /content/drive\n"
          ]
        }
      ]
    },
    {
      "cell_type": "code",
      "source": [
        "class_names = [\"Background\", \"Crack\", \"Spallation\", \"Efflorescence\", \"ExposedBars\", \"CorrosionStain\"]\n",
        "\n",
        "# Ignore background class for classification task\n",
        "class_names_classification = [\"Crack\", \"Spallation\", \"Efflorescence\", \"ExposedBars\", \"CorrosionStain\"]"
      ],
      "metadata": {
        "id": "ewXFCf6YVCWR"
      },
      "execution_count": null,
      "outputs": []
    },
    {
      "cell_type": "code",
      "source": [
        "class args:\n",
        "    models_dir = Path(\"/content/drive/MyDrive/Trabalho/Fruitpunch/AI for damage inspection/models/vit_small_patch32_384/\")"
      ],
      "metadata": {
        "id": "5DrNnmNBTRad"
      },
      "execution_count": null,
      "outputs": []
    },
    {
      "cell_type": "code",
      "source": [
        "def predict(model, loaders: List, loaders_names: List[str]) -> Dict:\n",
        "    \"\"\"Generate predictions with a model for each loader in loaders list.\"\"\"\n",
        "    outputs = {}\n",
        "    threshold = 0.5\n",
        "    for loader, partition in zip(loaders, loaders_names):\n",
        "        partition_outputs = {}\n",
        "        predictions = []\n",
        "        targets = []\n",
        "        for batch in tqdm(loader):\n",
        "            with torch.no_grad():\n",
        "                img, target = batch\n",
        "                output = model(img.to(model.device))\n",
        "\n",
        "                preds = model.sigmoid(output).cpu().clone().detach()\n",
        "                target = target.cpu().clone().detach().to(torch.int32)\n",
        "                predictions.append(preds)\n",
        "                targets.append(target)\n",
        "\n",
        "        partition_outputs[\"predictions\"] = torch.cat(predictions)\n",
        "        partition_outputs[\"targets\"] = torch.cat(targets)\n",
        "        outputs[partition] = partition_outputs\n",
        "    return outputs\n",
        "\n",
        "def _compute_scores(prediction_outputs: Dict[str, torch.Tensor]) -> Tuple:\n",
        "    \"\"\"Compute F1 and Accuracy for a partition's prediction outputs.\"\"\"\n",
        "    preds = (prediction_outputs[\"predictions\"] >= 0.5).numpy().astype(int)\n",
        "    targets = prediction_outputs[\"targets\"]\n",
        "\n",
        "    accuracy = accuracy_score(targets, preds)\n",
        "    f1_avg = f1_score(targets, preds, average=\"macro\")\n",
        "    f1_per_class = f1_score(targets, preds, average=None)\n",
        "\n",
        "    recall_per_class = recall_score(targets, preds, average=None)\n",
        "    precision_per_class = precision_score(targets, preds, average=None)\n",
        "\n",
        "    return accuracy, f1_avg, f1_per_class, recall_per_class, precision_per_class\n",
        "\n",
        "def compute_scores(run_outputs: Dict, train_size: int) -> pd.DataFrame:\n",
        "    \"\"\"Compute F1 and Accuracy for a run's predictions output.\n",
        "    \n",
        "    A run's output is composed of all desired partitions (train, val, test).\n",
        "\n",
        "    \"\"\"\n",
        "    metrics = pd.DataFrame()\n",
        "    for partition, data in run_outputs.items():\n",
        "        accuracy, f1_avg, f1_per_class, recall_per_class, precision_per_class = _compute_scores(data)\n",
        "        \n",
        "        metrics = pd.concat([metrics, pd.DataFrame({\n",
        "            \"partition\": partition,\n",
        "            \"train_size\": train_size,\n",
        "            \"accuracy\": accuracy,\n",
        "            \"f1_avg\": f1_avg,\n",
        "            \"f1_per_class\": \", \".join([str(round(f, 4)) for f in f1_per_class]),\n",
        "            \"recall_per_class\": \", \".join([str(round(f, 4)) for f in recall_per_class]),\n",
        "            \"precision_per_class\": \", \".join([str(round(f, 4)) for f in precision_per_class]),\n",
        "        }, index=[0])])\n",
        "    return metrics"
      ],
      "metadata": {
        "id": "U6jNOY_1T5-O"
      },
      "execution_count": null,
      "outputs": []
    },
    {
      "cell_type": "code",
      "source": [
        "def get_checkpoint(train_size: int, mode=\"best\"):\n",
        "    drive_save_folder = args.models_dir / f\"train_size_{train_size}\"\n",
        "    if mode == \"best\":\n",
        "        ckpt_path = list(drive_save_folder.glob(\"checkpoints/epoch*\"))[0]\n",
        "    elif mode == \"last\":\n",
        "        ckpt_path = drive_save_folder / \"checkpoints/last.ckpt\"\n",
        "    return ckpt_path\n",
        "\n",
        "paths = {}\n",
        "for run_folder in sorted(list(args.models_dir.glob(\"train_size*\"))):\n",
        "    \n",
        "    train_size = str(run_folder).split(\"_\")[-1]\n",
        "    paths[int(train_size)] = get_checkpoint(train_size, mode=\"best\")\n",
        "\n",
        "paths"
      ],
      "metadata": {
        "colab": {
          "base_uri": "https://localhost:8080/"
        },
        "id": "1jLZNJE9TQiS",
        "outputId": "6c2f603f-f0e0-4d78-8da9-bfd78c6ef9af"
      },
      "execution_count": null,
      "outputs": [
        {
          "output_type": "execute_result",
          "data": {
            "text/plain": [
              "{100: PosixPath('/content/drive/MyDrive/Trabalho/Fruitpunch/AI for damage inspection/models/vit_small_patch32_384/train_size_100/checkpoints/epoch=14-valid_loss=0.5060-valid_f1=0.7290.ckpt'),\n",
              " 200: PosixPath('/content/drive/MyDrive/Trabalho/Fruitpunch/AI for damage inspection/models/vit_small_patch32_384/train_size_200/checkpoints/epoch=12-valid_loss=0.4380-valid_f1=0.8036.ckpt'),\n",
              " 300: PosixPath('/content/drive/MyDrive/Trabalho/Fruitpunch/AI for damage inspection/models/vit_small_patch32_384/train_size_300/checkpoints/epoch=12-valid_loss=0.5304-valid_f1=0.7931.ckpt'),\n",
              " 400: PosixPath('/content/drive/MyDrive/Trabalho/Fruitpunch/AI for damage inspection/models/vit_small_patch32_384/train_size_400/checkpoints/epoch=13-valid_loss=0.5045-valid_f1=0.7938.ckpt'),\n",
              " 900: PosixPath('/content/drive/MyDrive/Trabalho/Fruitpunch/AI for damage inspection/models/vit_small_patch32_384/train_size_900/checkpoints/epoch=09-valid_loss=0.3617-valid_f1=0.8474.ckpt')}"
            ]
          },
          "metadata": {},
          "execution_count": 7
        }
      ]
    },
    {
      "cell_type": "code",
      "source": [
        "scores = pd.DataFrame()\n",
        "filename = \"prediction_outputs.pkl\"\n",
        "for train_size, curr_path in paths.items():\n",
        "    predictions_path = curr_path.parents[1] / filename\n",
        "    if predictions_path.exists():\n",
        "        with open(predictions_path, \"rb\") as f:\n",
        "            run_outputs = pickle.load(f)\n",
        "        run_scores = compute_scores(run_outputs, train_size)\n",
        "        scores = pd.concat([scores, run_scores])\n",
        "    else:\n",
        "        warnings.warn(f\"{predictions_path} does not exist.\")\n",
        "scores = scores.reset_index(drop=True)\n",
        "\n",
        "scores[\"class_name\"] = \", \".join(class_names_classification)\n",
        "scores[\"class_name\"] = scores[\"class_name\"].apply(lambda x: x.split(\", \"))\n",
        "scores[\"f1_per_class\"] = scores[\"f1_per_class\"].apply(lambda x: x.split(\", \"))\n",
        "scores[\"recall_per_class\"] = scores[\"recall_per_class\"].apply(lambda x: x.split(\", \"))\n",
        "scores[\"precision_per_class\"] = scores[\"precision_per_class\"].apply(lambda x: x.split(\", \"))"
      ],
      "metadata": {
        "id": "y3X2DJQuTFmv"
      },
      "execution_count": null,
      "outputs": []
    },
    {
      "cell_type": "code",
      "source": [
        "scores.head(5)"
      ],
      "metadata": {
        "colab": {
          "base_uri": "https://localhost:8080/",
          "height": 337
        },
        "id": "88b-uygIUInx",
        "outputId": "60655982-476a-48f2-e8b9-3a0ab60d21e6"
      },
      "execution_count": null,
      "outputs": [
        {
          "output_type": "execute_result",
          "data": {
            "text/plain": [
              "  partition  train_size  accuracy    f1_avg  \\\n",
              "0     train         100  0.974359  0.993446   \n",
              "1       val         100  0.230769  0.693274   \n",
              "2      test         100  0.282895  0.703670   \n",
              "3     train         200  0.943750  0.989258   \n",
              "4       val         200  0.475000  0.786884   \n",
              "\n",
              "                               f1_per_class  \\\n",
              "0           [1.0, 0.9885, 0.9787, 1.0, 1.0]   \n",
              "1  [0.6923, 0.7407, 0.3636, 0.8235, 0.8462]   \n",
              "2  [0.7725, 0.7541, 0.4444, 0.8244, 0.7229]   \n",
              "3     [0.9796, 0.9884, 0.9897, 1.0, 0.9886]   \n",
              "4     [0.8511, 0.8, 0.6154, 0.8235, 0.8444]   \n",
              "\n",
              "                           recall_per_class  \\\n",
              "0              [1.0, 1.0, 0.9583, 1.0, 1.0]   \n",
              "1        [0.75, 0.9091, 0.3333, 0.875, 1.0]   \n",
              "2  [0.8022, 0.8519, 0.3478, 0.8438, 0.7229]   \n",
              "3           [1.0, 0.9884, 0.9796, 1.0, 1.0]   \n",
              "4  [0.8333, 0.7619, 0.6667, 0.8235, 0.8636]   \n",
              "\n",
              "                        precision_per_class  \\\n",
              "0              [1.0, 0.9773, 1.0, 1.0, 1.0]   \n",
              "1      [0.6429, 0.625, 0.4, 0.7778, 0.7333]   \n",
              "2   [0.7449, 0.6765, 0.6154, 0.806, 0.7229]   \n",
              "3          [0.96, 0.9884, 1.0, 1.0, 0.9775]   \n",
              "4  [0.8696, 0.8421, 0.5714, 0.8235, 0.8261]   \n",
              "\n",
              "                                          class_name  \n",
              "0  [Crack, Spallation, Efflorescence, ExposedBars...  \n",
              "1  [Crack, Spallation, Efflorescence, ExposedBars...  \n",
              "2  [Crack, Spallation, Efflorescence, ExposedBars...  \n",
              "3  [Crack, Spallation, Efflorescence, ExposedBars...  \n",
              "4  [Crack, Spallation, Efflorescence, ExposedBars...  "
            ],
            "text/html": [
              "\n",
              "  <div id=\"df-b6a91087-d788-41a9-8272-c392de6212e5\">\n",
              "    <div class=\"colab-df-container\">\n",
              "      <div>\n",
              "<style scoped>\n",
              "    .dataframe tbody tr th:only-of-type {\n",
              "        vertical-align: middle;\n",
              "    }\n",
              "\n",
              "    .dataframe tbody tr th {\n",
              "        vertical-align: top;\n",
              "    }\n",
              "\n",
              "    .dataframe thead th {\n",
              "        text-align: right;\n",
              "    }\n",
              "</style>\n",
              "<table border=\"1\" class=\"dataframe\">\n",
              "  <thead>\n",
              "    <tr style=\"text-align: right;\">\n",
              "      <th></th>\n",
              "      <th>partition</th>\n",
              "      <th>train_size</th>\n",
              "      <th>accuracy</th>\n",
              "      <th>f1_avg</th>\n",
              "      <th>f1_per_class</th>\n",
              "      <th>recall_per_class</th>\n",
              "      <th>precision_per_class</th>\n",
              "      <th>class_name</th>\n",
              "    </tr>\n",
              "  </thead>\n",
              "  <tbody>\n",
              "    <tr>\n",
              "      <th>0</th>\n",
              "      <td>train</td>\n",
              "      <td>100</td>\n",
              "      <td>0.974359</td>\n",
              "      <td>0.993446</td>\n",
              "      <td>[1.0, 0.9885, 0.9787, 1.0, 1.0]</td>\n",
              "      <td>[1.0, 1.0, 0.9583, 1.0, 1.0]</td>\n",
              "      <td>[1.0, 0.9773, 1.0, 1.0, 1.0]</td>\n",
              "      <td>[Crack, Spallation, Efflorescence, ExposedBars...</td>\n",
              "    </tr>\n",
              "    <tr>\n",
              "      <th>1</th>\n",
              "      <td>val</td>\n",
              "      <td>100</td>\n",
              "      <td>0.230769</td>\n",
              "      <td>0.693274</td>\n",
              "      <td>[0.6923, 0.7407, 0.3636, 0.8235, 0.8462]</td>\n",
              "      <td>[0.75, 0.9091, 0.3333, 0.875, 1.0]</td>\n",
              "      <td>[0.6429, 0.625, 0.4, 0.7778, 0.7333]</td>\n",
              "      <td>[Crack, Spallation, Efflorescence, ExposedBars...</td>\n",
              "    </tr>\n",
              "    <tr>\n",
              "      <th>2</th>\n",
              "      <td>test</td>\n",
              "      <td>100</td>\n",
              "      <td>0.282895</td>\n",
              "      <td>0.703670</td>\n",
              "      <td>[0.7725, 0.7541, 0.4444, 0.8244, 0.7229]</td>\n",
              "      <td>[0.8022, 0.8519, 0.3478, 0.8438, 0.7229]</td>\n",
              "      <td>[0.7449, 0.6765, 0.6154, 0.806, 0.7229]</td>\n",
              "      <td>[Crack, Spallation, Efflorescence, ExposedBars...</td>\n",
              "    </tr>\n",
              "    <tr>\n",
              "      <th>3</th>\n",
              "      <td>train</td>\n",
              "      <td>200</td>\n",
              "      <td>0.943750</td>\n",
              "      <td>0.989258</td>\n",
              "      <td>[0.9796, 0.9884, 0.9897, 1.0, 0.9886]</td>\n",
              "      <td>[1.0, 0.9884, 0.9796, 1.0, 1.0]</td>\n",
              "      <td>[0.96, 0.9884, 1.0, 1.0, 0.9775]</td>\n",
              "      <td>[Crack, Spallation, Efflorescence, ExposedBars...</td>\n",
              "    </tr>\n",
              "    <tr>\n",
              "      <th>4</th>\n",
              "      <td>val</td>\n",
              "      <td>200</td>\n",
              "      <td>0.475000</td>\n",
              "      <td>0.786884</td>\n",
              "      <td>[0.8511, 0.8, 0.6154, 0.8235, 0.8444]</td>\n",
              "      <td>[0.8333, 0.7619, 0.6667, 0.8235, 0.8636]</td>\n",
              "      <td>[0.8696, 0.8421, 0.5714, 0.8235, 0.8261]</td>\n",
              "      <td>[Crack, Spallation, Efflorescence, ExposedBars...</td>\n",
              "    </tr>\n",
              "  </tbody>\n",
              "</table>\n",
              "</div>\n",
              "      <button class=\"colab-df-convert\" onclick=\"convertToInteractive('df-b6a91087-d788-41a9-8272-c392de6212e5')\"\n",
              "              title=\"Convert this dataframe to an interactive table.\"\n",
              "              style=\"display:none;\">\n",
              "        \n",
              "  <svg xmlns=\"http://www.w3.org/2000/svg\" height=\"24px\"viewBox=\"0 0 24 24\"\n",
              "       width=\"24px\">\n",
              "    <path d=\"M0 0h24v24H0V0z\" fill=\"none\"/>\n",
              "    <path d=\"M18.56 5.44l.94 2.06.94-2.06 2.06-.94-2.06-.94-.94-2.06-.94 2.06-2.06.94zm-11 1L8.5 8.5l.94-2.06 2.06-.94-2.06-.94L8.5 2.5l-.94 2.06-2.06.94zm10 10l.94 2.06.94-2.06 2.06-.94-2.06-.94-.94-2.06-.94 2.06-2.06.94z\"/><path d=\"M17.41 7.96l-1.37-1.37c-.4-.4-.92-.59-1.43-.59-.52 0-1.04.2-1.43.59L10.3 9.45l-7.72 7.72c-.78.78-.78 2.05 0 2.83L4 21.41c.39.39.9.59 1.41.59.51 0 1.02-.2 1.41-.59l7.78-7.78 2.81-2.81c.8-.78.8-2.07 0-2.86zM5.41 20L4 18.59l7.72-7.72 1.47 1.35L5.41 20z\"/>\n",
              "  </svg>\n",
              "      </button>\n",
              "      \n",
              "  <style>\n",
              "    .colab-df-container {\n",
              "      display:flex;\n",
              "      flex-wrap:wrap;\n",
              "      gap: 12px;\n",
              "    }\n",
              "\n",
              "    .colab-df-convert {\n",
              "      background-color: #E8F0FE;\n",
              "      border: none;\n",
              "      border-radius: 50%;\n",
              "      cursor: pointer;\n",
              "      display: none;\n",
              "      fill: #1967D2;\n",
              "      height: 32px;\n",
              "      padding: 0 0 0 0;\n",
              "      width: 32px;\n",
              "    }\n",
              "\n",
              "    .colab-df-convert:hover {\n",
              "      background-color: #E2EBFA;\n",
              "      box-shadow: 0px 1px 2px rgba(60, 64, 67, 0.3), 0px 1px 3px 1px rgba(60, 64, 67, 0.15);\n",
              "      fill: #174EA6;\n",
              "    }\n",
              "\n",
              "    [theme=dark] .colab-df-convert {\n",
              "      background-color: #3B4455;\n",
              "      fill: #D2E3FC;\n",
              "    }\n",
              "\n",
              "    [theme=dark] .colab-df-convert:hover {\n",
              "      background-color: #434B5C;\n",
              "      box-shadow: 0px 1px 3px 1px rgba(0, 0, 0, 0.15);\n",
              "      filter: drop-shadow(0px 1px 2px rgba(0, 0, 0, 0.3));\n",
              "      fill: #FFFFFF;\n",
              "    }\n",
              "  </style>\n",
              "\n",
              "      <script>\n",
              "        const buttonEl =\n",
              "          document.querySelector('#df-b6a91087-d788-41a9-8272-c392de6212e5 button.colab-df-convert');\n",
              "        buttonEl.style.display =\n",
              "          google.colab.kernel.accessAllowed ? 'block' : 'none';\n",
              "\n",
              "        async function convertToInteractive(key) {\n",
              "          const element = document.querySelector('#df-b6a91087-d788-41a9-8272-c392de6212e5');\n",
              "          const dataTable =\n",
              "            await google.colab.kernel.invokeFunction('convertToInteractive',\n",
              "                                                     [key], {});\n",
              "          if (!dataTable) return;\n",
              "\n",
              "          const docLinkHtml = 'Like what you see? Visit the ' +\n",
              "            '<a target=\"_blank\" href=https://colab.research.google.com/notebooks/data_table.ipynb>data table notebook</a>'\n",
              "            + ' to learn more about interactive tables.';\n",
              "          element.innerHTML = '';\n",
              "          dataTable['output_type'] = 'display_data';\n",
              "          await google.colab.output.renderOutput(dataTable, element);\n",
              "          const docLink = document.createElement('div');\n",
              "          docLink.innerHTML = docLinkHtml;\n",
              "          element.appendChild(docLink);\n",
              "        }\n",
              "      </script>\n",
              "    </div>\n",
              "  </div>\n",
              "  "
            ]
          },
          "metadata": {},
          "execution_count": 9
        }
      ]
    },
    {
      "cell_type": "code",
      "source": [
        "plt.figure(figsize=(10, 7))\n",
        "sns.lineplot(\n",
        "    data=scores,\n",
        "    x=\"train_size\",\n",
        "    y=\"f1_avg\",\n",
        "    hue=\"partition\",\n",
        "    style=\"partition\",\n",
        "    markers=True, \n",
        "    dashes=False\n",
        ")\n",
        "plt.title(\"Learning Curve Analysis\")\n",
        "plt.xlabel(\"Training size\")\n",
        "plt.ylabel(\"F1 Score (avg: macro)\")\n",
        "plt.savefig(\"lca_f1_macro.png\")\n",
        "plt.show()"
      ],
      "metadata": {
        "colab": {
          "base_uri": "https://localhost:8080/",
          "height": 458
        },
        "id": "lnwz3zFASzfL",
        "outputId": "d23a3330-e12a-4372-ea7b-9d1b898f2450"
      },
      "execution_count": null,
      "outputs": [
        {
          "output_type": "display_data",
          "data": {
            "text/plain": [
              "<Figure size 720x504 with 1 Axes>"
            ],
            "image/png": "[encoded data removed]"
          },
          "metadata": {
            "needs_background": "light"
          }
        }
      ]
    },
    {
      "cell_type": "code",
      "source": [
        "plt.figure(figsize=(10, 7))\n",
        "\n",
        "sns.lineplot(\n",
        "    data=scores,\n",
        "    x=\"train_size\",\n",
        "    y=\"accuracy\", # all labels correct = 1, any label incorrect = 0\n",
        "    hue=\"partition\",\n",
        "    style=\"partition\",\n",
        "    markers=True, \n",
        "    dashes=False\n",
        ")\n",
        "plt.title(\"Learning Curve Analysis\")\n",
        "plt.xlabel(\"Training size\")\n",
        "plt.ylabel(\"Accuracy (all labels must be correct)\")\n",
        "plt.savefig(\"lca_accuracy.png\")\n",
        "plt.show()"
      ],
      "metadata": {
        "colab": {
          "base_uri": "https://localhost:8080/",
          "height": 458
        },
        "id": "57iyWOT4YNor",
        "outputId": "c38b1442-b37c-4e67-eeb4-db27eb97a857"
      },
      "execution_count": null,
      "outputs": [
        {
          "output_type": "display_data",
          "data": {
            "text/plain": [
              "<Figure size 720x504 with 1 Axes>"
            ],
            "image/png": "[encoded data removed]"
          },
          "metadata": {
            "needs_background": "light"
          }
        }
      ]
    },
    {
      "cell_type": "code",
      "source": [
        "classes = scores[[\"partition\", \"train_size\", \"class_name\"]].explode(column=\"class_name\")\n",
        "f1_per_class = scores[[\"f1_per_class\"]].explode(column=\"f1_per_class\")\n",
        "recall_per_class = scores[[\"recall_per_class\"]].explode(column=\"recall_per_class\")\n",
        "precision_per_class = scores[[\"precision_per_class\"]].explode(column=\"precision_per_class\")\n",
        "scores_per_class = pd.concat([classes, f1_per_class, recall_per_class, precision_per_class], axis=1)\n",
        "scores_per_class[[\"f1_per_class\", \"recall_per_class\", \"precision_per_class\"]] = scores_per_class[[\"f1_per_class\", \"recall_per_class\", \"precision_per_class\"]].astype(float)"
      ],
      "metadata": {
        "id": "G5UA5KX9UI52"
      },
      "execution_count": null,
      "outputs": []
    },
    {
      "cell_type": "code",
      "source": [
        "scores_per_class.head(5)"
      ],
      "metadata": {
        "colab": {
          "base_uri": "https://localhost:8080/",
          "height": 206
        },
        "id": "khM_7TOVUjBM",
        "outputId": "2e214e24-4613-41a6-8a8a-d6680f2fec9a"
      },
      "execution_count": null,
      "outputs": [
        {
          "output_type": "execute_result",
          "data": {
            "text/plain": [
              "  partition  train_size      class_name  f1_per_class  recall_per_class  \\\n",
              "0     train         100           Crack        1.0000            1.0000   \n",
              "0     train         100      Spallation        0.9885            1.0000   \n",
              "0     train         100   Efflorescence        0.9787            0.9583   \n",
              "0     train         100     ExposedBars        1.0000            1.0000   \n",
              "0     train         100  CorrosionStain        1.0000            1.0000   \n",
              "\n",
              "   precision_per_class  \n",
              "0               1.0000  \n",
              "0               0.9773  \n",
              "0               1.0000  \n",
              "0               1.0000  \n",
              "0               1.0000  "
            ],
            "text/html": [
              "\n",
              "  <div id=\"df-f9765df8-f9f4-4b24-81f7-ba7907aa7310\">\n",
              "    <div class=\"colab-df-container\">\n",
              "      <div>\n",
              "<style scoped>\n",
              "    .dataframe tbody tr th:only-of-type {\n",
              "        vertical-align: middle;\n",
              "    }\n",
              "\n",
              "    .dataframe tbody tr th {\n",
              "        vertical-align: top;\n",
              "    }\n",
              "\n",
              "    .dataframe thead th {\n",
              "        text-align: right;\n",
              "    }\n",
              "</style>\n",
              "<table border=\"1\" class=\"dataframe\">\n",
              "  <thead>\n",
              "    <tr style=\"text-align: right;\">\n",
              "      <th></th>\n",
              "      <th>partition</th>\n",
              "      <th>train_size</th>\n",
              "      <th>class_name</th>\n",
              "      <th>f1_per_class</th>\n",
              "      <th>recall_per_class</th>\n",
              "      <th>precision_per_class</th>\n",
              "    </tr>\n",
              "  </thead>\n",
              "  <tbody>\n",
              "    <tr>\n",
              "      <th>0</th>\n",
              "      <td>train</td>\n",
              "      <td>100</td>\n",
              "      <td>Crack</td>\n",
              "      <td>1.0000</td>\n",
              "      <td>1.0000</td>\n",
              "      <td>1.0000</td>\n",
              "    </tr>\n",
              "    <tr>\n",
              "      <th>0</th>\n",
              "      <td>train</td>\n",
              "      <td>100</td>\n",
              "      <td>Spallation</td>\n",
              "      <td>0.9885</td>\n",
              "      <td>1.0000</td>\n",
              "      <td>0.9773</td>\n",
              "    </tr>\n",
              "    <tr>\n",
              "      <th>0</th>\n",
              "      <td>train</td>\n",
              "      <td>100</td>\n",
              "      <td>Efflorescence</td>\n",
              "      <td>0.9787</td>\n",
              "      <td>0.9583</td>\n",
              "      <td>1.0000</td>\n",
              "    </tr>\n",
              "    <tr>\n",
              "      <th>0</th>\n",
              "      <td>train</td>\n",
              "      <td>100</td>\n",
              "      <td>ExposedBars</td>\n",
              "      <td>1.0000</td>\n",
              "      <td>1.0000</td>\n",
              "      <td>1.0000</td>\n",
              "    </tr>\n",
              "    <tr>\n",
              "      <th>0</th>\n",
              "      <td>train</td>\n",
              "      <td>100</td>\n",
              "      <td>CorrosionStain</td>\n",
              "      <td>1.0000</td>\n",
              "      <td>1.0000</td>\n",
              "      <td>1.0000</td>\n",
              "    </tr>\n",
              "  </tbody>\n",
              "</table>\n",
              "</div>\n",
              "      <button class=\"colab-df-convert\" onclick=\"convertToInteractive('df-f9765df8-f9f4-4b24-81f7-ba7907aa7310')\"\n",
              "              title=\"Convert this dataframe to an interactive table.\"\n",
              "              style=\"display:none;\">\n",
              "        \n",
              "  <svg xmlns=\"http://www.w3.org/2000/svg\" height=\"24px\"viewBox=\"0 0 24 24\"\n",
              "       width=\"24px\">\n",
              "    <path d=\"M0 0h24v24H0V0z\" fill=\"none\"/>\n",
              "    <path d=\"M18.56 5.44l.94 2.06.94-2.06 2.06-.94-2.06-.94-.94-2.06-.94 2.06-2.06.94zm-11 1L8.5 8.5l.94-2.06 2.06-.94-2.06-.94L8.5 2.5l-.94 2.06-2.06.94zm10 10l.94 2.06.94-2.06 2.06-.94-2.06-.94-.94-2.06-.94 2.06-2.06.94z\"/><path d=\"M17.41 7.96l-1.37-1.37c-.4-.4-.92-.59-1.43-.59-.52 0-1.04.2-1.43.59L10.3 9.45l-7.72 7.72c-.78.78-.78 2.05 0 2.83L4 21.41c.39.39.9.59 1.41.59.51 0 1.02-.2 1.41-.59l7.78-7.78 2.81-2.81c.8-.78.8-2.07 0-2.86zM5.41 20L4 18.59l7.72-7.72 1.47 1.35L5.41 20z\"/>\n",
              "  </svg>\n",
              "      </button>\n",
              "      \n",
              "  <style>\n",
              "    .colab-df-container {\n",
              "      display:flex;\n",
              "      flex-wrap:wrap;\n",
              "      gap: 12px;\n",
              "    }\n",
              "\n",
              "    .colab-df-convert {\n",
              "      background-color: #E8F0FE;\n",
              "      border: none;\n",
              "      border-radius: 50%;\n",
              "      cursor: pointer;\n",
              "      display: none;\n",
              "      fill: #1967D2;\n",
              "      height: 32px;\n",
              "      padding: 0 0 0 0;\n",
              "      width: 32px;\n",
              "    }\n",
              "\n",
              "    .colab-df-convert:hover {\n",
              "      background-color: #E2EBFA;\n",
              "      box-shadow: 0px 1px 2px rgba(60, 64, 67, 0.3), 0px 1px 3px 1px rgba(60, 64, 67, 0.15);\n",
              "      fill: #174EA6;\n",
              "    }\n",
              "\n",
              "    [theme=dark] .colab-df-convert {\n",
              "      background-color: #3B4455;\n",
              "      fill: #D2E3FC;\n",
              "    }\n",
              "\n",
              "    [theme=dark] .colab-df-convert:hover {\n",
              "      background-color: #434B5C;\n",
              "      box-shadow: 0px 1px 3px 1px rgba(0, 0, 0, 0.15);\n",
              "      filter: drop-shadow(0px 1px 2px rgba(0, 0, 0, 0.3));\n",
              "      fill: #FFFFFF;\n",
              "    }\n",
              "  </style>\n",
              "\n",
              "      <script>\n",
              "        const buttonEl =\n",
              "          document.querySelector('#df-f9765df8-f9f4-4b24-81f7-ba7907aa7310 button.colab-df-convert');\n",
              "        buttonEl.style.display =\n",
              "          google.colab.kernel.accessAllowed ? 'block' : 'none';\n",
              "\n",
              "        async function convertToInteractive(key) {\n",
              "          const element = document.querySelector('#df-f9765df8-f9f4-4b24-81f7-ba7907aa7310');\n",
              "          const dataTable =\n",
              "            await google.colab.kernel.invokeFunction('convertToInteractive',\n",
              "                                                     [key], {});\n",
              "          if (!dataTable) return;\n",
              "\n",
              "          const docLinkHtml = 'Like what you see? Visit the ' +\n",
              "            '<a target=\"_blank\" href=https://colab.research.google.com/notebooks/data_table.ipynb>data table notebook</a>'\n",
              "            + ' to learn more about interactive tables.';\n",
              "          element.innerHTML = '';\n",
              "          dataTable['output_type'] = 'display_data';\n",
              "          await google.colab.output.renderOutput(dataTable, element);\n",
              "          const docLink = document.createElement('div');\n",
              "          docLink.innerHTML = docLinkHtml;\n",
              "          element.appendChild(docLink);\n",
              "        }\n",
              "      </script>\n",
              "    </div>\n",
              "  </div>\n",
              "  "
            ]
          },
          "metadata": {},
          "execution_count": 15
        }
      ]
    },
    {
      "cell_type": "code",
      "source": [
        "plt.figure(figsize=(15, 10))\n",
        "sns.barplot(\n",
        "    data=scores_per_class.query(\"partition == 'test'\"),\n",
        "    x=\"class_name\",\n",
        "    hue=\"train_size\",\n",
        "    y=\"f1_per_class\",\n",
        "    palette=\"Set3\"\n",
        ")\n",
        "plt.xticks(rotation=45)\n",
        "plt.title(\"Per class comparison - F1 Score\")\n",
        "plt.xlabel(\"Class\")\n",
        "plt.ylabel(\"F1 per class\")\n",
        "plt.savefig(\"f1_per_class.png\")\n",
        "plt.show()"
      ],
      "metadata": {
        "colab": {
          "base_uri": "https://localhost:8080/",
          "height": 670
        },
        "id": "s80Mt1wpWtaZ",
        "outputId": "4cc270dc-e6d9-4fc5-ad24-0b538d90b50a"
      },
      "execution_count": null,
      "outputs": [
        {
          "output_type": "display_data",
          "data": {
            "text/plain": [
              "<Figure size 1080x720 with 1 Axes>"
            ],
            "image/png": "[encoded data removed]"
          },
          "metadata": {
            "needs_background": "light"
          }
        }
      ]
    },
    {
      "cell_type": "code",
      "source": [
        "plt.figure(figsize=(15, 10))\n",
        "sns.barplot(\n",
        "    data=scores_per_class.query(\"partition == 'test'\"),\n",
        "    x=\"class_name\",\n",
        "    hue=\"train_size\",\n",
        "    y=\"recall_per_class\",\n",
        "    palette=\"Set3\"\n",
        ")\n",
        "plt.title(\"Per class comparison - Recall\")\n",
        "plt.xlabel(\"Class\")\n",
        "plt.ylabel(\"Recall per class\")\n",
        "plt.savefig(\"recall_per_class.png\")\n",
        "plt.xticks(rotation=45)\n",
        "plt.show()"
      ],
      "metadata": {
        "colab": {
          "base_uri": "https://localhost:8080/",
          "height": 670
        },
        "id": "XocwOxpAXyQq",
        "outputId": "00736cfd-1014-4445-ba35-46afb08b7784"
      },
      "execution_count": null,
      "outputs": [
        {
          "output_type": "display_data",
          "data": {
            "text/plain": [
              "<Figure size 1080x720 with 1 Axes>"
            ],
            "image/png": "[encoded data removed]"
          },
          "metadata": {
            "needs_background": "light"
          }
        }
      ]
    },
    {
      "cell_type": "code",
      "source": [
        "plt.figure(figsize=(15, 10))\n",
        "sns.barplot(\n",
        "    data=scores_per_class.query(\"partition == 'test'\"),\n",
        "    x=\"class_name\",\n",
        "    hue=\"train_size\",\n",
        "    y=\"precision_per_class\",\n",
        "    palette=\"Set3\"\n",
        ")\n",
        "plt.title(\"Per class comparison - Precision\")\n",
        "plt.xlabel(\"Class\")\n",
        "plt.ylabel(\"Precision per class\")\n",
        "plt.savefig(\"precision_per_class.png\")\n",
        "plt.xticks(rotation=45)\n",
        "plt.show()"
      ],
      "metadata": {
        "colab": {
          "base_uri": "https://localhost:8080/",
          "height": 670
        },
        "id": "Dqqn7Fs5Wb_G",
        "outputId": "b912afca-7638-46af-d27d-d764e47e0bd0"
      },
      "execution_count": null,
      "outputs": [
        {
          "output_type": "display_data",
          "data": {
            "text/plain": [
              "<Figure size 1080x720 with 1 Axes>"
            ],
            "image/png": "[encoded data removed]"
          },
          "metadata": {
            "needs_background": "light"
          }
        }
      ]
    },
    {
      "cell_type": "code",
      "source": [],
      "metadata": {
        "id": "br5vYPy6X1pH"
      },
      "execution_count": null,
      "outputs": []
    }
  ]
}